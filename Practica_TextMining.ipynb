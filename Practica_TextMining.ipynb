{
 "cells": [
  {
   "cell_type": "markdown",
   "metadata": {
    "id": "8SLUTtXTn-oY"
   },
   "source": [
    "Text Mining - Práctica\n",
    "\n",
    "AFI - Máster en Data Science y Big Data\n",
    "\n",
    "Juan de Dios Romero Palop\n",
    "\n",
    "Abril 2021\n"
   ]
  },
  {
   "cell_type": "markdown",
   "metadata": {
    "id": "Cepa0wSSCk-a"
   },
   "source": [
    "### EJERCICIO 1 NER Fechas\n",
    "\n",
    "Vamos a crear expresiones regulares que nos permitan detectar dentro de un texto fechas en distintos formatos. "
   ]
  },
  {
   "cell_type": "code",
   "execution_count": 1,
   "metadata": {},
   "outputs": [],
   "source": [
    "import re"
   ]
  },
  {
   "cell_type": "code",
   "execution_count": 21,
   "metadata": {
    "id": "35Hs_3oKn_zh"
   },
   "outputs": [
    {
     "data": {
      "text/plain": [
       "<re.Match object; span=(0, 8), match='30-03-20'>"
      ]
     },
     "execution_count": 21,
     "metadata": {},
     "output_type": "execute_result"
    }
   ],
   "source": [
    "# 1.1 Construye una regex que se active con el siguiente formato dd-mm-yy (e.g. 30-03-20)\n",
    "pattern = '[0-9]{2}(-[0-9]{2}){2}$'\n",
    "\n",
    "re.search(pattern, '30-03-20')"
   ]
  },
  {
   "cell_type": "code",
   "execution_count": 28,
   "metadata": {
    "id": "pc68oATgDYUF"
   },
   "outputs": [
    {
     "data": {
      "text/plain": [
       "<re.Match object; span=(0, 8), match='30/03/20'>"
      ]
     },
     "execution_count": 28,
     "metadata": {},
     "output_type": "execute_result"
    }
   ],
   "source": [
    "# 1.2 A veces en vez de - se utiliza /. Modifica la regex anterior para que también se active con el siguiente formato:\n",
    "# dd/mm/yy (e.g. 30/03/20)\n",
    "# Ojo, debe activarse también con el formato de la celda anterior.\n",
    "pattern = '[0-9]{2}((-[0-9]{2})|(/[0-9]{2})){2}$'\n",
    "\n",
    "re.search(pattern, '30/03/20')"
   ]
  },
  {
   "cell_type": "code",
   "execution_count": null,
   "metadata": {
    "id": "fRqHZa1xDyf3"
   },
   "outputs": [],
   "source": [
    "# 1.3 Has llegado hasta aquí pero tú también sabes que no siempre se añade el 0 a los meses que van de enero a septiembre.\n",
    "# Modifica tu regex para que tenga en cuenta esto. (e.g. 30/3/20)\n",
    "# Ojo, debe activarse también con el formato de las celdas anteriores.\n"
   ]
  },
  {
   "cell_type": "markdown",
   "metadata": {
    "id": "API32GcRG_DK"
   },
   "source": [
    "### EJERCICIO 2 Emails "
   ]
  },
  {
   "cell_type": "code",
   "execution_count": null,
   "metadata": {
    "id": "0WOlhK4bHPrC"
   },
   "outputs": [],
   "source": [
    "# Construye una regex que compruebe que un token cumple los requisitos para ser una dirección de email."
   ]
  },
  {
   "cell_type": "markdown",
   "metadata": {
    "id": "3mkHNbziHR3h"
   },
   "source": [
    "### EJERCICIO 3 Analizador de estilo"
   ]
  },
  {
   "cell_type": "markdown",
   "metadata": {
    "id": "od_QYGQeHWAT"
   },
   "source": [
    "Prepara una secuencia de celdas que te sirva para hacer un análisis exploratorio del estilo de un texto cualquiera. Utiliza las funciones vistas en clase e incluye una celda con el texto explicando para que te serviría cada una de ellas. Elige un texto (puedes utilizar alguno de los ya incluídos en los paquetes o incluir alguno que encuentres por tu cuenta), aplica las celdas sobre él y analiza los resultados obtenidos.\n",
    "\n",
    "PD. Si decides utilizar un texto nuevo acuerdate de incluirlo en la respuesta de la práctica.\n",
    "\n",
    "PD2. Puedes elegir si lo haces sobre un texto en español o en ingles. \n",
    "\n",
    "PD3. Recuerda lo dicho en clase, más vale pocas cosas pero relevantes que aplicar todo lo visto en clase sin motivo."
   ]
  },
  {
   "cell_type": "code",
   "execution_count": null,
   "metadata": {
    "id": "wwVfp-6YoBXS"
   },
   "outputs": [],
   "source": [
    "# Analizador de estilo\n"
   ]
  },
  {
   "cell_type": "markdown",
   "metadata": {
    "id": "4r-EvU5lIZo6"
   },
   "source": [
    "### EJERCICIO 4 Traductor años 90"
   ]
  },
  {
   "cell_type": "code",
   "execution_count": null,
   "metadata": {
    "id": "V4otz_DjoDeo"
   },
   "outputs": [],
   "source": [
    "# Utiliza las funcionalidades de wordnet vistas en clase para crear un traductor palabra a palabra.\n",
    "# El resultado debe ser la traducción al inglés de la siguiente historia\n",
    "\"indio querer hablar vaquero\"\n",
    "\"vaquero disparar\"\n",
    "\"vaquero hombre malo\""
   ]
  },
  {
   "cell_type": "code",
   "execution_count": null,
   "metadata": {
    "id": "M2RWPBf5qI6W"
   },
   "outputs": [],
   "source": [
    "# Ahora me gustaría saber como quedaría esta historia en japonés. \n",
    "# En las traspas tienes información importante sobre cómo hacerlo.\n",
    "# Pista: quizás debas dar un rodeo."
   ]
  },
  {
   "cell_type": "markdown",
   "metadata": {
    "id": "K6Mh8pYMEI9m"
   },
   "source": [
    "### EJERCICIO 5 Clasificador textos\n",
    "\n",
    "Modifica el código visto en clase (6 Clasificación Textos) para solucionar los dos problemas que encontramos. De cara a la entrega, crea una copia del fichero, modificalo y envíalo en la práctica. Comprueba que el fichero entero funciona correctamente antes de enviarlo.\n",
    "\n",
    "1. Adapta las funciones correspondientes para que a la hora de vectorizar si encontramos una nueva palabra no se lance un error.\n",
    "\n",
    "2. Adapta las funciones o añade alguna nueva para que los textos a los que queremos asignar un sentimiento se preprocesen de forma correcta. "
   ]
  },
  {
   "cell_type": "code",
   "execution_count": null,
   "metadata": {
    "id": "YWBk2lIpELns"
   },
   "outputs": [],
   "source": []
  }
 ],
 "metadata": {
  "colab": {
   "collapsed_sections": [],
   "name": "Practica.ipynb",
   "provenance": []
  },
  "kernelspec": {
   "display_name": "Python 3",
   "language": "python",
   "name": "python3"
  },
  "language_info": {
   "codemirror_mode": {
    "name": "ipython",
    "version": 3
   },
   "file_extension": ".py",
   "mimetype": "text/x-python",
   "name": "python",
   "nbconvert_exporter": "python",
   "pygments_lexer": "ipython3",
   "version": "3.8.5"
  }
 },
 "nbformat": 4,
 "nbformat_minor": 1
}
