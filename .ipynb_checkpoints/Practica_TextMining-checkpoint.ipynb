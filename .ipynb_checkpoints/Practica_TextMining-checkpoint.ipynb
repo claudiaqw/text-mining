{
 "cells": [
  {
   "cell_type": "markdown",
   "metadata": {
    "id": "8SLUTtXTn-oY"
   },
   "source": [
    "# Text Mining - Práctica\n",
    "\n",
    "## AFI - Máster en Data Science y Big Data\n",
    "\n",
    "**Profesor:** Juan de Dios Romero Palop\n",
    "\n",
    "**Alumna:** Claudia Quintana Wong\n",
    "\n",
    "Abril 2021\n"
   ]
  },
  {
   "cell_type": "code",
   "execution_count": 1,
   "metadata": {},
   "outputs": [],
   "source": [
    "import re\n",
    "import matplotlib.pyplot as plt\n",
    "\n",
    "%matplotlib inline"
   ]
  },
  {
   "cell_type": "markdown",
   "metadata": {
    "id": "Cepa0wSSCk-a"
   },
   "source": [
    "## EJERCICIO 1: NER Fechas\n",
    "\n",
    "Vamos a crear expresiones regulares que nos permitan detectar dentro de un texto fechas en distintos formatos. Crearemos una lista para comprobar la correctitud de los patrones. En cada caso se imprimen solamente las fechas que cumplieron el patrón."
   ]
  },
  {
   "cell_type": "code",
   "execution_count": 2,
   "metadata": {},
   "outputs": [],
   "source": [
    "test = ['01-12-12', '00-12-21', '25/02-00', '11/08/56', '11/2/99']"
   ]
  },
  {
   "cell_type": "markdown",
   "metadata": {},
   "source": [
    "### 1.1 Construye una regex que se active con el siguiente formato dd-mm-yy (e.g. 30-03-20)\n",
    "\n",
    "La expresión regular indica que el primer número, correspondiente al día, tiene que estar en el rango 01 - 31, mientras que el segundo entre 01 y 12. Para representar el año se acepta cualquier número de dos dígitos. "
   ]
  },
  {
   "cell_type": "code",
   "execution_count": 3,
   "metadata": {
    "id": "35Hs_3oKn_zh"
   },
   "outputs": [
    {
     "data": {
      "text/plain": [
       "['01-12-12']"
      ]
     },
     "execution_count": 3,
     "metadata": {},
     "output_type": "execute_result"
    }
   ],
   "source": [
    "pattern = '^([0-2][1-9]|3[0-1])(-)(0[1-9]|1[0-2])(-)(\\d{2})$'\n",
    "\n",
    "[date for date in test if re.search(pattern, date)]"
   ]
  },
  {
   "cell_type": "markdown",
   "metadata": {},
   "source": [
    "### 1.2 A veces en vez de - se utiliza /. Modifica la regex anterior para que también se active con el siguiente formato:  dd/mm/yy (e.g. 30/03/20)\n",
    "Ojo, debe activarse también con el formato de la celda anterior.\n",
    "\n",
    "Esta expresión regular es muy similar a la anterior, solo que adiciona que el separador entre los números puede ser tanto el - como /"
   ]
  },
  {
   "cell_type": "code",
   "execution_count": 4,
   "metadata": {
    "id": "pc68oATgDYUF"
   },
   "outputs": [
    {
     "data": {
      "text/plain": [
       "['01-12-12', '11/08/56']"
      ]
     },
     "execution_count": 4,
     "metadata": {},
     "output_type": "execute_result"
    }
   ],
   "source": [
    "pattern = '''(^([0-2][1-9]|3[0-1])(-)(0[1-9]|1[0-2])(-)(\\d{2})$)|(^([0-2][1-9]|3[0-1])(\\/)(0[1-9]|1[0-2])(\\/)(\\d{2})$)'''\n",
    "\n",
    "[date for date in test if re.search(pattern, date)]"
   ]
  },
  {
   "cell_type": "markdown",
   "metadata": {},
   "source": [
    "### 1.3 Has llegado hasta aquí pero tú también sabes que no siempre se añade el 0 a los meses que van de enero a septiembre. Modifica tu regex para que tenga en cuenta esto. (e.g. 30/3/20)\n",
    "Ojo, debe activarse también con el formato de las celdas anteriores.\n",
    "\n",
    "La única modificación que se introduce es que el cero que acompaña a los meses puede aparecer 0 o 1 vez."
   ]
  },
  {
   "cell_type": "code",
   "execution_count": 5,
   "metadata": {
    "id": "fRqHZa1xDyf3"
   },
   "outputs": [
    {
     "data": {
      "text/plain": [
       "['01-12-12', '11/08/56', '11/2/99']"
      ]
     },
     "execution_count": 5,
     "metadata": {},
     "output_type": "execute_result"
    }
   ],
   "source": [
    "pattern = '''(^([0-2][1-9]|3[0-1])(-)((0)?[1-9]|1[0-2])(-)(\\d{2})$)|(^([0-2][1-9]|3[0-1])(\\/)((0)?[1-9]|1[0-2])(\\/)(\\d{2})$)'''\n",
    "\n",
    "[date for date in test if re.search(pattern, date)]"
   ]
  },
  {
   "cell_type": "markdown",
   "metadata": {
    "id": "API32GcRG_DK"
   },
   "source": [
    "## EJERCICIO 2: Emails \n",
    "\n",
    "Construye una regex que compruebe que un token cumple los requisitos para ser una dirección de email."
   ]
  },
  {
   "cell_type": "markdown",
   "metadata": {},
   "source": [
    "En este ejercicio se toma en cuenta que una dirección de email válida está formada por caracteres alfanuméricos, además del punto (.) y el guión medio (-). No se limita la cantidad de caracteres que puede tener, solamente se indica que el domio de be ser de dos o tres letras."
   ]
  },
  {
   "cell_type": "code",
   "execution_count": 6,
   "metadata": {
    "id": "0WOlhK4bHPrC"
   },
   "outputs": [
    {
     "data": {
      "text/plain": [
       "['claudi_aqw@gmail.com']"
      ]
     },
     "execution_count": 6,
     "metadata": {},
     "output_type": "execute_result"
    }
   ],
   "source": [
    "# Construye una regex que compruebe que un token cumple los requisitos para ser una dirección de email.\n",
    "regex = '^(\\w|\\.|\\-)+[@](\\w|\\_|\\-|\\.)+[.]\\w{2,3}$'\n",
    "\n",
    "emails = ['claudi_aqw@gmail.com', 'mario.com', 'testemail)@.es']\n",
    "\n",
    "[email for email in emails if re.search(regex, email)]"
   ]
  },
  {
   "cell_type": "markdown",
   "metadata": {
    "id": "3mkHNbziHR3h"
   },
   "source": [
    "### EJERCICIO 3: Analizador de estilo"
   ]
  },
  {
   "cell_type": "code",
   "execution_count": 7,
   "metadata": {},
   "outputs": [],
   "source": [
    "import spacy\n",
    "import nltk\n",
    "import string"
   ]
  },
  {
   "cell_type": "markdown",
   "metadata": {
    "id": "od_QYGQeHWAT"
   },
   "source": [
    "Prepara una secuencia de celdas que te sirva para hacer un análisis exploratorio del estilo de un texto cualquiera. Utiliza las funciones vistas en clase e incluye una celda con el texto explicando para que te serviría cada una de ellas. Elige un texto (puedes utilizar alguno de los ya incluídos en los paquetes o incluir alguno que encuentres por tu cuenta), aplica las celdas sobre él y analiza los resultados obtenidos.\n",
    "\n",
    "PD. Si decides utilizar un texto nuevo acuerdate de incluirlo en la respuesta de la práctica.\n",
    "\n",
    "PD2. Puedes elegir si lo haces sobre un texto en español o en ingles. \n",
    "\n",
    "PD3. Recuerda lo dicho en clase, más vale pocas cosas pero relevantes que aplicar todo lo visto en clase sin motivo."
   ]
  },
  {
   "cell_type": "markdown",
   "metadata": {},
   "source": [
    "### Juego de Tronos"
   ]
  },
  {
   "cell_type": "markdown",
   "metadata": {},
   "source": [
    "En este ejercicio se utiliza como fuente de datos una parte del primer libro de Juego de Tronos. Por problemas de velocidad y capacidad de procesamiento se ha decidido, tomar desde el inicio hasta la página 60. Asimismo, esto facilita el procesamiento con spacy ya que tiene  una limitación de 1000000 tokens. No obstante, el análisis que se presenta es válido para conjuntos de datos mayores.  "
   ]
  },
  {
   "cell_type": "code",
   "execution_count": 8,
   "metadata": {},
   "outputs": [],
   "source": [
    "nlp = spacy.load(\"es_core_news_sm\")"
   ]
  },
  {
   "cell_type": "markdown",
   "metadata": {},
   "source": [
    "### 3.1 Lectura y carga de datos "
   ]
  },
  {
   "cell_type": "code",
   "execution_count": 9,
   "metadata": {
    "id": "wwVfp-6YoBXS"
   },
   "outputs": [
    {
     "data": {
      "text/plain": [
       "'PRÓLOGO  Deberíamos volver ya  instó Gared mientras los bosques se tornaban más y más oscuros a su alrededor . Los salvajes están muertos.  sonrisa.   ¿Te dan miedo los muertos?  preguntó Ser Waymar Royce, insinuando apenas una   Los muertos están muertos  contestó Gared. No había mordido el anzuelo. Era un anciano de más de cincuenta años, y había visto ir y venir a muchos jóvenes señores . No tenemos nada que tratar con ellos.  ¿Y de veras están muertos?  preguntó Royce delicadamente . ¿Qué pr'"
      ]
     },
     "execution_count": 9,
     "metadata": {},
     "output_type": "execute_result"
    }
   ],
   "source": [
    "with open('./data/GOT-small.txt', 'r', encoding='utf-8') as f:\n",
    "    text = f.read()\n",
    "    \n",
    "text = text.replace(\"\\n\", ' ')\n",
    "text = text.replace(\"\\ufeff\", '')\n",
    "text = text.replace(\"—\", ' ')\n",
    "text[:500]"
   ]
  },
  {
   "cell_type": "markdown",
   "metadata": {},
   "source": [
    "### 3.2 Palabras "
   ]
  },
  {
   "cell_type": "markdown",
   "metadata": {},
   "source": [
    "* **Palabras más comunes**\n",
    "\n",
    "Para hallar las palabras más comunes en el fragmento de texto, inicialmente se tokeniza el texto original. Luego, puesto que las stopwords no aportan imformación relevante pra detrminar el estilo de un texto se eliminan del análisis. "
   ]
  },
  {
   "cell_type": "code",
   "execution_count": 10,
   "metadata": {},
   "outputs": [],
   "source": [
    "from nltk.corpus import stopwords\n",
    "from nltk.tokenize import word_tokenize\n",
    "from wordcloud import WordCloud\n",
    "from collections import Counter\n",
    "\n",
    "text_1 = text.translate(str.maketrans('', '', string.punctuation + '“”’¿?' ))\n",
    "text_2 = text_1.lower()\n",
    "tokenized = word_tokenize(text_2)\n",
    "\n",
    "stop_words = set(stopwords.words('spanish')) \n",
    "non_stpwt = [w for w in tokenized if w not in stop_words]  \n",
    "\n",
    "word_counter = Counter()\n",
    "\n",
    "for word in non_stpwt:\n",
    "    if word in word_counter:\n",
    "        word_counter[word] += 1\n",
    "    else:\n",
    "        word_counter[word] = 1"
   ]
  },
  {
   "cell_type": "code",
   "execution_count": 11,
   "metadata": {},
   "outputs": [
    {
     "data": {
      "text/plain": [
       "[('dijo', 242),\n",
       " ('jon', 180),\n",
       " ('ned', 146),\n",
       " ('bran', 129),\n",
       " ('si', 127),\n",
       " ('ojos', 105),\n",
       " ('rey', 97),\n",
       " ('ser', 94),\n",
       " ('hermano', 87),\n",
       " ('hombre', 84),\n",
       " ('tan', 82),\n",
       " ('mientras', 81),\n",
       " ('robert', 78),\n",
       " ('dany', 77),\n",
       " ('vez', 75),\n",
       " ('padre', 75),\n",
       " ('catelyn', 73),\n",
       " ('arya', 72),\n",
       " ('años', 71),\n",
       " ('hacia', 70)]"
      ]
     },
     "execution_count": 11,
     "metadata": {},
     "output_type": "execute_result"
    }
   ],
   "source": [
    "word_counter.most_common(20)"
   ]
  },
  {
   "cell_type": "markdown",
   "metadata": {},
   "source": [
    "Las palabras más comunes son principalment nombres de personajes en el libro, lo cual sugiere que el libro trata de la historia de muchas personas. Sin embargo, no ha sido posible determinar la idea central de la historia. Con el objetivo de realmente determinar cuál es el tema central repitamos el mismo análisis pero teniendo en cuenta solo los sustativos."
   ]
  },
  {
   "cell_type": "markdown",
   "metadata": {},
   "source": [
    "* **Sustantivos más comunes**\n",
    "\n",
    "Para identificar los sustantivos se toma el texto en bruto y se aplica una técnica de *POS (part-of-speech) tagger* que permite  determinar la categoría gramatical de cada una de las palabras. Se toma el texto original porque los algoritmos pueden hacer uso de los signos de puntuación y stopwords para determinar la función gramatical de las palabras. \n",
    "\n",
    "Las etiquetas que designan sustantivos son:\n",
    "\n",
    " * NN: noun, singular\n",
    " * NNS noun plural\n",
    " * NNP proper noun, singular\n",
    " * NNPS proper noun, plural\n",
    " \n",
    " En este caso, solo nos quedaremos con los sustantivos comunes, tanto en plural como en singular."
   ]
  },
  {
   "cell_type": "code",
   "execution_count": 12,
   "metadata": {},
   "outputs": [
    {
     "data": {
      "text/plain": [
       "['volver',\n",
       " 'ya',\n",
       " 'instó',\n",
       " 'mientras',\n",
       " 'bosques',\n",
       " 'más',\n",
       " 'y',\n",
       " 'más',\n",
       " 'alrededor',\n",
       " 'están']"
      ]
     },
     "execution_count": 12,
     "metadata": {},
     "output_type": "execute_result"
    }
   ],
   "source": [
    "from nltk import pos_tag\n",
    "\n",
    "tags = pos_tag(word_tokenize(text))\n",
    "nouns = [word for word, tag in tags if tag in ['NN', 'NNS']]\n",
    "nouns[:10]"
   ]
  },
  {
   "cell_type": "markdown",
   "metadata": {},
   "source": [
    "Se puede notar que hubo palabras que fueron categorizadas incorrectamente como la palabra *dijo*. Para observar la importancia de las palabras dibujaremos un gráfico de tipo *wordcloud* donde la frecuencia de las palabras en el texto está asociado al tamaño de las mismas en la gráfica."
   ]
  },
  {
   "cell_type": "code",
   "execution_count": 13,
   "metadata": {},
   "outputs": [
    {
     "data": {
      "image/png": "[encoded data removed]",
      "text/plain": [
       "<Figure size 432x288 with 1 Axes>"
      ]
     },
     "metadata": {
      "needs_background": "light"
     },
     "output_type": "display_data"
    }
   ],
   "source": [
    "text_3 = ' '.join(nouns)\n",
    "\n",
    "wordcloud = WordCloud(stopwords = stop_words,\n",
    "                      collocations=True, background_color='white').generate(text_3)\n",
    "\n",
    "plt.imshow(wordcloud, interpolation='bilInear')\n",
    "plt.axis('off')\n",
    "plt.show()"
   ]
  },
  {
   "cell_type": "markdown",
   "metadata": {},
   "source": [
    "La abundancia de verbos en pasado como **dijo**, **dio**, ... da la idea que el texto es una historia. Se puede notar, sin tener en cuenta las palabras que fueron mal clasificadas, que aparecen sustativos relativos a la familia como **hermano** y **padre** que sugieren que se trata de una historia que envuelve a la familia. Asimismo, palabras como **rey**, **señor**, **caballo**, **caballero**, **príncipe**, **maestre**, sigieren que la historia tiene lugar en la edad antigua o medieval. También la frecuencia de las palabras **muerto** y partes del cuerpo como **ojo**, **mano**, **cabeza** pueden dar la idea de muerte y pérdida de miembros lo que sugiere tal vez la ocurrencia de batallas o una guerra."
   ]
  },
  {
   "cell_type": "markdown",
   "metadata": {},
   "source": [
    "* **Gráficos de dispersión**\n",
    "\n",
    "Mediante los gráficos de dipersión podemos observar la vida de una palabra a lo largo del texto. hagamos el análisis con algunos de los sustantivos más comunes."
   ]
  },
  {
   "cell_type": "code",
   "execution_count": 14,
   "metadata": {},
   "outputs": [
    {
     "data": {
      "image/png": "[encoded data removed]",
      "text/plain": [
       "<Figure size 432x288 with 1 Axes>"
      ]
     },
     "metadata": {
      "needs_background": "light"
     },
     "output_type": "display_data"
    }
   ],
   "source": [
    "nltk_text = nltk.Text(non_stpwt)\n",
    "nltk_text.dispersion_plot([\"hombre\", \"hermano\", \"rey\", \"vida\", \"muerte\"])"
   ]
  },
  {
   "cell_type": "markdown",
   "metadata": {},
   "source": [
    "De las palabras seleccionadas se puede notar que **hombre**, **hermano** y **rey** son palabras que se mencionan durante todo el trayecto de la historia. Asimismo, las palabras **vida** y **muerte** se mencionan con menos frecuencia y hay espacios de tiempo diferentes donde no se hace mención a ellas. "
   ]
  },
  {
   "cell_type": "markdown",
   "metadata": {},
   "source": [
    "### 3.3 Análisis de personajes\n",
    "\n",
    "Anteriormente, unos de los primeros análisis arrojó que los nombres de personas eran muy comunes en el texto, por lo que en esta sección haremos un análisis de los personajes de la historia. \n",
    "\n",
    "Primeramente, identificaremos algunos de los personajes y los mñas mencionados. Para ello es necesario tokenizar por oraciones, en la práctica se intentó utilizando todo el texto, sin embargo, muchos inicios de oración eran identificados como entidades. \n"
   ]
  },
  {
   "cell_type": "markdown",
   "metadata": {},
   "source": [
    "* **Personajes más mencionados**\n",
    "\n",
    "Para determinar cuáles son los personajes que más se mencionan es necesario aplicar una técnica de reconocimiento de entidades nombradas. Se consideran personajes las entidades reconocidas de tipo PERSONA."
   ]
  },
  {
   "cell_type": "code",
   "execution_count": 15,
   "metadata": {},
   "outputs": [
    {
     "data": {
      "text/plain": [
       "['Gared',\n",
       " 'Gared',\n",
       " 'Gared',\n",
       " 'Gared',\n",
       " 'Will',\n",
       " 'Will',\n",
       " 'Después',\n",
       " 'Gared',\n",
       " 'Will',\n",
       " 'Will']"
      ]
     },
     "execution_count": 15,
     "metadata": {},
     "output_type": "execute_result"
    }
   ],
   "source": [
    "from nltk.tokenize import sent_tokenize\n",
    "sentences = sent_tokenize(text)\n",
    "\n",
    "characters = []\n",
    "for s in sentences:\n",
    "    doc = nlp(s)\n",
    "    my_characters = [ent.text for ent in doc.ents if ent.label_ == 'PER']\n",
    "    characters += my_characters\n",
    "    \n",
    "characters[:10]"
   ]
  },
  {
   "cell_type": "markdown",
   "metadata": {},
   "source": [
    "Se puede notar que hay casos incorrectos. Aunque este análisis no sea tan exacto, es suficiente para lograr el propósito de esta práctica."
   ]
  },
  {
   "cell_type": "code",
   "execution_count": 16,
   "metadata": {},
   "outputs": [],
   "source": [
    "character_counter = Counter()\n",
    "\n",
    "for c in characters:\n",
    "    if c in character_counter:\n",
    "        character_counter[c] += 1\n",
    "    else:\n",
    "        character_counter[c] = 1"
   ]
  },
  {
   "cell_type": "code",
   "execution_count": 17,
   "metadata": {},
   "outputs": [
    {
     "data": {
      "text/plain": [
       "[('Jon', 164),\n",
       " ('Ned', 120),\n",
       " ('Robert', 67),\n",
       " ('Robb', 62),\n",
       " ('Catelyn', 62),\n",
       " ('Dany', 34),\n",
       " ('Luwin', 27),\n",
       " ('Will', 25),\n",
       " ('Viserys', 24),\n",
       " ('Joffrey', 23)]"
      ]
     },
     "execution_count": 17,
     "metadata": {},
     "output_type": "execute_result"
    }
   ],
   "source": [
    "character_counter.most_common(10)"
   ]
  },
  {
   "cell_type": "markdown",
   "metadata": {},
   "source": [
    "El personaje más nombrado en el texto es Jon, cuyo nombre completo en la serie es Jon Snow, y es considerado unos de los personajes principales de toda la saga (ver https://es.wikipedia.org/wiki/Jon_Nieve). Asimismo, Ned Stark, su padre, se encuentra en segundo lugar. Lord Eddard Stark, apodado Ned, fue cabeza de la Casa Stark, y como tal, Señor de Invernalia y Guardián del Norte y fue unos sino el principal de los personajes en el primer libro. "
   ]
  },
  {
   "cell_type": "markdown",
   "metadata": {},
   "source": [
    "*  **Personajes que más se relacionan** \n",
    "\n",
    "Para determinar los personajes que mayor relación tiene en esta parte del libre se tiene en cuenta las veces que se mencionan en una misma oración. Para esto, se utilizan obviamente las oraciones obtenidas anteriormente y se aplica reconocimiento de entidades nombradas nuevamente."
   ]
  },
  {
   "cell_type": "code",
   "execution_count": 18,
   "metadata": {},
   "outputs": [],
   "source": [
    "related_characters = Counter()\n",
    "for s in sentences:\n",
    "    doc = nlp(s)\n",
    "    my_characters = [ent.text for ent in doc.ents if ent.label_ == 'PER']\n",
    "    for c1 in my_characters:\n",
    "        for c2 in my_characters:\n",
    "            if c1 != c2 and c1 < c2:\n",
    "                if  (c1, c2) not in related_characters and (c2, c1) not in related_characters:\n",
    "                    related_characters[(c1, c2)] = 1\n",
    "                else:\n",
    "                    related_characters[(c1, c2)] += 1    "
   ]
  },
  {
   "cell_type": "code",
   "execution_count": 19,
   "metadata": {},
   "outputs": [
    {
     "data": {
      "text/plain": [
       "[(('Jon', 'Robb'), 11),\n",
       " (('Ned', 'Robert'), 8),\n",
       " (('Catelyn', 'Ned'), 6),\n",
       " (('Jon', 'Ned'), 4),\n",
       " (('Joffrey', 'Robb'), 4),\n",
       " (('Cersei', 'Jaime'), 3),\n",
       " (('Aemon', 'Gared'), 2),\n",
       " (('Gared', 'Will'), 2),\n",
       " (('Catelyn', 'Robert'), 2),\n",
       " (('Alteza  ', 'Ned'), 2),\n",
       " (('Ned', 'Prométemelo'), 2),\n",
       " (('Aquello', 'Ned'), 2),\n",
       " (('Lady Stark', 'Lord'), 2),\n",
       " (('Joffrey', 'Jon'), 2),\n",
       " (('Benjen Stark', 'Jon'), 2),\n",
       " (('Rickon', 'Robb'), 2),\n",
       " (('Aquello', 'Robb'), 2),\n",
       " (('Jon', 'Rickon'), 2),\n",
       " (('Jaime', 'Tyrion'), 2),\n",
       " (('Tommen', 'Tyrion'), 2)]"
      ]
     },
     "execution_count": 19,
     "metadata": {},
     "output_type": "execute_result"
    }
   ],
   "source": [
    "related_characters.most_common(20)"
   ]
  },
  {
   "cell_type": "markdown",
   "metadata": {},
   "source": [
    "Este análisis arroja que los personajes Jon y Robb son los que más aparecen juntos en el inicio del libro, precisamente estos personajes son hermanos y viven juntos inicialmente. En segundo lugar, aparecen Ned y el rey Robbert, en la historia Ned trabajo directamente bajo el mandato de Robbert. Catelyn y Ned, quienes aparecen relacionados en tercer lugar son esposos en la serie lo que explica su cercanía."
   ]
  },
  {
   "cell_type": "markdown",
   "metadata": {},
   "source": [
    "* **Gráfico de dispersión de personajes**\n",
    "Dibujaremos una gráfica de dispersión muy similar a la anterior pero esta vez analizando a algunos de los personajes.\n"
   ]
  },
  {
   "cell_type": "code",
   "execution_count": 20,
   "metadata": {},
   "outputs": [
    {
     "data": {
      "image/png": "[encoded data removed]",
      "text/plain": [
       "<Figure size 432x288 with 1 Axes>"
      ]
     },
     "metadata": {
      "needs_background": "light"
     },
     "output_type": "display_data"
    }
   ],
   "source": [
    "nltk_text.dispersion_plot([\"jon\", \"ned\", \"robert\", 'robb'])"
   ]
  },
  {
   "cell_type": "markdown",
   "metadata": {},
   "source": [
    "Se puede observar que todos los personajes son mencionados a lo largo del texto. Se observa un aumento en el personaje **Robert**, esa parte del texto puede asociarse a su muerte, en ese mismo tiempo se puede notar que la frecuencia de **Ned**, quien lo sucedió en el trono. Sin embargo puede verse que **Robbert** sigue estando presente a lo largo del fragmento. "
   ]
  },
  {
   "cell_type": "markdown",
   "metadata": {
    "id": "4r-EvU5lIZo6"
   },
   "source": [
    "### EJERCICIO 4 Traductor años 90"
   ]
  },
  {
   "cell_type": "code",
   "execution_count": 21,
   "metadata": {},
   "outputs": [],
   "source": [
    "from nltk.corpus import wordnet\n",
    "from nltk.tokenize import word_tokenize"
   ]
  },
  {
   "cell_type": "markdown",
   "metadata": {},
   "source": [
    "Para la traducción del texto se utiliza wordnet. Se implementa la función *translate_word* que se encarga de traducir una palbra de un idioma *origin_lang* a otro *dest_lang*. La idea que sigue esta función es acceder al conjunto de *synsets* de la palabra dada. Obtener la traducción de los synsets al otro idioma, devolviendo la traducción del synset más inmediato si posee una, sino del siguiente.\n",
    "\n",
    "La función *form_phrase* une una lista de palabras formando un frase."
   ]
  },
  {
   "cell_type": "code",
   "execution_count": 22,
   "metadata": {},
   "outputs": [],
   "source": [
    "def translate_word(word, origin_lang, dest_lang):\n",
    "    synsets = wordnet.synsets(word, lang=origin_lang)\n",
    "    for syn in synsets:\n",
    "        translations = syn.lemma_names(dest_lang)\n",
    "        if len(translations) > 0:\n",
    "            return translations[0]        \n",
    "    print(f'la palabra {word} no tiene traducción de {origin_lang} a {dest_lang}')\n",
    "    return ''\n",
    "\n",
    "def form_phrase(word_list):\n",
    "    phrase = ''\n",
    "    for word in word_list:\n",
    "        phrase += f'{word} '\n",
    "    return phrase"
   ]
  },
  {
   "cell_type": "code",
   "execution_count": 23,
   "metadata": {
    "id": "V4otz_DjoDeo"
   },
   "outputs": [],
   "source": [
    "# Utiliza las funcionalidades de wordnet vistas en clase para crear un traductor palabra a palabra.\n",
    "# El resultado debe ser la traducción al inglés de la siguiente historia\n",
    "phrase_1 = \"indio querer hablar vaquero\"\n",
    "phrase_2 = \"vaquero disparar\"\n",
    "phrase_3 = \"vaquero hombre malo\""
   ]
  },
  {
   "cell_type": "markdown",
   "metadata": {},
   "source": [
    "Para obtener la traducción de una frase, se tokeniza la oración en palabras y se traducen cada una de las palabras de manera independiente utilizando la función descrita anteriormente."
   ]
  },
  {
   "cell_type": "code",
   "execution_count": 24,
   "metadata": {},
   "outputs": [
    {
     "name": "stdout",
     "output_type": "stream",
     "text": [
      "Indian will talk cowboy \n",
      "---\n",
      "cowboy shoot \n",
      "---\n",
      "cowboy homo bad \n",
      "---\n"
     ]
    }
   ],
   "source": [
    "for phrase in [phrase_1, phrase_2, phrase_3]:\n",
    "    tokens = word_tokenize(phrase)\n",
    "    translated = [translate_word(word, 'spa', 'eng') for word in tokens]\n",
    "    translated_phrase = form_phrase(translated)\n",
    "    print(translated_phrase)\n",
    "    print('---')"
   ]
  },
  {
   "cell_type": "markdown",
   "metadata": {},
   "source": [
    "Para traducir del español al japonés es necesario utilizar como idioma intermedio el inglés, pues wordnet soporta oficialmente solo este idioma. Por lo tanto, cada palabra se traduce de español a inglés y de inglés a japonés mediante la función *translate_word*."
   ]
  },
  {
   "cell_type": "code",
   "execution_count": 25,
   "metadata": {
    "id": "M2RWPBf5qI6W"
   },
   "outputs": [
    {
     "name": "stdout",
     "output_type": "stream",
     "text": [
      "Original: indio querer hablar vaquero\n",
      "Inglés: Indian will talk cowboy \n",
      "Japonés: インディアン 意力 会話 カウボーイ \n",
      "----\n",
      "Original: vaquero disparar\n",
      "Inglés: cowboy shoot \n",
      "Japonés: カウボーイ 射る \n",
      "----\n",
      "Original: vaquero hombre malo\n",
      "Inglés: cowboy homo bad \n",
      "Japonés: カウボーイ 同性愛者 不良 \n",
      "----\n"
     ]
    }
   ],
   "source": [
    "# Ahora me gustaría saber como quedaría esta historia en japonés. \n",
    "# En las traspas tienes información importante sobre cómo hacerlo.\n",
    "# Pista: quizás debas dar un rodeo.\n",
    "for phrase in [phrase_1, phrase_2, phrase_3]:\n",
    "    tokens = word_tokenize(phrase)\n",
    "    translated = [translate_word(word, 'spa', 'eng') for word in tokens]\n",
    "    japanesse = [translate_word(word, 'eng', 'jpn') for word in translated]\n",
    "    english_phrase, japanesse_phrase = form_phrase(translated), form_phrase(japanesse)\n",
    "    print(f'Original: {phrase}')\n",
    "    print(f'Inglés: {english_phrase}')\n",
    "    print(f'Japonés: {japanesse_phrase}')\n",
    "    print('----')"
   ]
  },
  {
   "cell_type": "markdown",
   "metadata": {
    "id": "K6Mh8pYMEI9m"
   },
   "source": [
    "### EJERCICIO 5 Clasificador textos\n",
    "\n",
    "Modifica el código visto en clase (6 Clasificación Textos) para solucionar los dos problemas que encontramos. De cara a la entrega, crea una copia del fichero, modificalo y envíalo en la práctica. Comprueba que el fichero entero funciona correctamente antes de enviarlo.\n",
    "\n",
    "1. Adapta las funciones correspondientes para que a la hora de vectorizar si encontramos una nueva palabra no se lance un error.\n",
    "\n",
    "2. Adapta las funciones o añade alguna nueva para que los textos a los que queremos asignar un sentimiento se preprocesen de forma correcta. "
   ]
  },
  {
   "cell_type": "markdown",
   "metadata": {
    "id": "YWBk2lIpELns"
   },
   "source": [
    "**Nota**: La respuesta a este ejercicio se encuentra en el fichero *6_Clasificacion_Textos_modificado.ipynb*. \n",
    "\n",
    "La solución planteada consiste en cada uno de los casos en:\n",
    "\n",
    "1. Primeramente se llevan todas las palabras a minúsculas en la celda 27, de manera tal que una misma palabra aunque esté escrita de forma diferente sea interpretada como la misma y se modifica la función *bag_of_words* en la celda 28 para que tenga en cuenta el cambio anterior. Asimismo, se adiciona una condición que comprueba si la palabra existe en el vocabulario y en caso de no estar, en lugar de un error se muestra un mensaje (*warning*) advirtiendo que esa palabra no existe en el vocabulario y por tanto, no se tiene en cuenta para vectorizar una frase.\n",
    "2. Una palabra que no se encuentra en el vocabulario construido durante la fase de entrenamiento no se puede incluir en el vector de una frase que la contiene, porque esto implicaría recalcular todo el diccionario de datos y estaría creciendo todo el tiempo, puesto que siempre se encontrarán palabras nuevas, en dependencia del texto sobre el que se haya construido dicho vocabulario. En este caso, cuando se encuentra una palabra nueva se decide formar el vector de la frase que la contiene ignorando la existencia de esta palabra. Se considera que no es conveniente lanzar un error o detener el proceso porque una palabra en una frase puede que no cambie todo el sentido y sea posible, aún sin representarla obtener una predicción correcta. Sin embargo, esta decisión no es ni incorrecta ni correcta sino que depende de quien lo implementa. Sin embargo, al tomar esta decisión se considera necesario informar al cliente de lo que está ocurriendo mediante el *warning*."
   ]
  }
 ],
 "metadata": {
  "colab": {
   "collapsed_sections": [],
   "name": "Practica.ipynb",
   "provenance": []
  },
  "kernelspec": {
   "display_name": "Python 3",
   "language": "python",
   "name": "python3"
  },
  "language_info": {
   "codemirror_mode": {
    "name": "ipython",
    "version": 3
   },
   "file_extension": ".py",
   "mimetype": "text/x-python",
   "name": "python",
   "nbconvert_exporter": "python",
   "pygments_lexer": "ipython3",
   "version": "3.8.5"
  }
 },
 "nbformat": 4,
 "nbformat_minor": 1
}
