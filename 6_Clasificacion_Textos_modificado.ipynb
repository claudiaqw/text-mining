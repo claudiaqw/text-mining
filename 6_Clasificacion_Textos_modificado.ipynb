{
 "cells": [
  {
   "cell_type": "markdown",
   "metadata": {
    "id": "svuzsW-c_Va0"
   },
   "source": [
    "# Text Mining - 6. Clasificacion textos\n",
    "\n",
    "## AFI - Máster en Data Science y Big Data\n",
    "\n",
    "**Profesor**: Juan de Dios Romero Palop\n",
    "\n",
    "**Alumna**: Claudia Quintana Wong\n",
    "\n",
    "Abril 2021\n",
    "\n",
    "Source: Andrew Task, Udacity"
   ]
  },
  {
   "cell_type": "markdown",
   "metadata": {
    "id": "d5Y0tolWGdIo"
   },
   "source": [
    "### 1. Carga de datos"
   ]
  },
  {
   "cell_type": "code",
   "execution_count": 1,
   "metadata": {
    "id": "eqOmYFCU_caw"
   },
   "outputs": [],
   "source": [
    "## Críticas de películas\n",
    "g = open('./data/reviews.txt','r') \n",
    "reviews = g.read().splitlines()\n",
    "g.close()\n",
    "\n",
    "## Sentimiento asociado\n",
    "g = open('./data//labels.txt','r') # What we WANT to know!\n",
    "labels = g.read().upper().splitlines()\n",
    "g.close()"
   ]
  },
  {
   "cell_type": "code",
   "execution_count": 2,
   "metadata": {
    "id": "sCNRyZge_q-S"
   },
   "outputs": [
    {
     "data": {
      "text/plain": [
       "25000"
      ]
     },
     "execution_count": 2,
     "metadata": {},
     "output_type": "execute_result"
    }
   ],
   "source": [
    "len(reviews)"
   ]
  },
  {
   "cell_type": "code",
   "execution_count": 3,
   "metadata": {
    "id": "m4-aZ98KApvE"
   },
   "outputs": [
    {
     "data": {
      "text/plain": [
       "'story of a man who has unnatural feelings for a pig . starts out with a opening scene that is a terrific example of absurd comedy . a formal orchestra audience is turned into an insane  violent mob by the crazy chantings of it  s singers . unfortunately it stays absurd the whole time with no general narrative eventually making it just too off putting . even those from the era should be turned off . the cryptic dialogue would make shakespeare seem easy to a third grader . on a technical level it  s better than you might think with some good cinematography by future great vilmos zsigmond . future stars sally kirkland and frederic forrest can be seen briefly .  '"
      ]
     },
     "execution_count": 3,
     "metadata": {},
     "output_type": "execute_result"
    }
   ],
   "source": [
    "reviews[1]"
   ]
  },
  {
   "cell_type": "code",
   "execution_count": 4,
   "metadata": {
    "id": "_Sp0eh4FAgAm"
   },
   "outputs": [
    {
     "data": {
      "text/plain": [
       "25000"
      ]
     },
     "execution_count": 4,
     "metadata": {},
     "output_type": "execute_result"
    }
   ],
   "source": [
    "len(labels)"
   ]
  },
  {
   "cell_type": "code",
   "execution_count": 5,
   "metadata": {
    "id": "xsYwZbY8Alu3"
   },
   "outputs": [
    {
     "data": {
      "text/plain": [
       "'POSITIVE'"
      ]
     },
     "execution_count": 5,
     "metadata": {},
     "output_type": "execute_result"
    }
   ],
   "source": [
    "labels[0]"
   ]
  },
  {
   "cell_type": "code",
   "execution_count": 6,
   "metadata": {
    "id": "7NnpYsu8b9-9"
   },
   "outputs": [],
   "source": [
    "def pretty_print_review_and_label(i):\n",
    "    print(labels[i] + \"\\t:\\t\" + reviews[i][:80] + \"...\")"
   ]
  },
  {
   "cell_type": "code",
   "execution_count": 7,
   "metadata": {
    "id": "2uZIkLHR-658",
    "nbpresent": {
     "id": "e67a709f-234f-4493-bae6-4fb192141ee0"
    }
   },
   "outputs": [
    {
     "name": "stdout",
     "output_type": "stream",
     "text": [
      "labels.txt \t : \t reviews.txt\n",
      "\n",
      "NEGATIVE\t:\tthis movie is terrible but it has some good effects .  ...\n",
      "POSITIVE\t:\tadrian pasdar is excellent is this film . he makes a fascinating woman .  ...\n",
      "NEGATIVE\t:\tcomment this movie is impossible . is terrible  very improbable  bad interpretat...\n",
      "POSITIVE\t:\texcellent episode movie ala pulp fiction .  days   suicides . it doesnt get more...\n",
      "NEGATIVE\t:\tif you haven  t seen this  it  s terrible . it is pure trash . i saw this about ...\n",
      "POSITIVE\t:\tthis schiffer guy is a real genius  the movie is of excellent quality and both e...\n"
     ]
    }
   ],
   "source": [
    "print(\"labels.txt \\t : \\t reviews.txt\\n\")\n",
    "pretty_print_review_and_label(2137)\n",
    "pretty_print_review_and_label(12816)\n",
    "pretty_print_review_and_label(6267)\n",
    "pretty_print_review_and_label(21934)\n",
    "pretty_print_review_and_label(5297)\n",
    "pretty_print_review_and_label(4998)"
   ]
  },
  {
   "cell_type": "markdown",
   "metadata": {
    "id": "sLGTusxtGV87"
   },
   "source": [
    "### 2. Análisis cuantitativo términos: ¿Qué términos aparecen en los comentarios positivos, cuales en los negativos y cuales aparecen en ambos?"
   ]
  },
  {
   "cell_type": "code",
   "execution_count": 8,
   "metadata": {
    "id": "nlqB8_qn-66C"
   },
   "outputs": [],
   "source": [
    "from collections import Counter\n",
    "import numpy as np"
   ]
  },
  {
   "cell_type": "markdown",
   "metadata": {
    "id": "M91OwP4ecNyN"
   },
   "source": [
    "Vamos a utilizar la estructura Counter de python para ver cuantas veces aparece cada palabra en las críticas. Debajo tienes un ejemplo de como utilizar un contador."
   ]
  },
  {
   "cell_type": "markdown",
   "metadata": {
    "id": "dbZsxhiYcvuc"
   },
   "source": [
    "https://docs.python.org/2/library/collections.html#collections.Counter"
   ]
  },
  {
   "cell_type": "code",
   "execution_count": 9,
   "metadata": {
    "id": "C5zuEETgcXD2"
   },
   "outputs": [
    {
     "data": {
      "text/plain": [
       "[('palabra2', 5), ('palabra1', 3)]"
      ]
     },
     "execution_count": 9,
     "metadata": {},
     "output_type": "execute_result"
    }
   ],
   "source": [
    "ex_count = Counter()\n",
    "ex_count['palabra1'] = 3\n",
    "ex_count['palabra2'] = 5\n",
    "ex_count.most_common()"
   ]
  },
  {
   "cell_type": "code",
   "execution_count": 10,
   "metadata": {
    "id": "ZrNcZkIpGmT1"
   },
   "outputs": [],
   "source": [
    "# Un contandor para cada tipo de review y uno total\n",
    "positive_counts = Counter()\n",
    "negative_counts = Counter()\n",
    "total_counts = Counter()"
   ]
  },
  {
   "cell_type": "code",
   "execution_count": 11,
   "metadata": {
    "id": "BbU5hbuzHRQ9"
   },
   "outputs": [],
   "source": [
    "# Crea un bucle que, para cada crítica, recorra sus palabras una a una e incremente en 1 el número de aparaciones.\n",
    "# Aumenta el contador siempre en total_counts y en positive_counts O en negative_counts dependiendo de si es una crítica\n",
    "# positiva o negativa\n",
    "for i in range(len(reviews)):\n",
    "    if(labels[i] == 'POSITIVE'):\n",
    "        for word in reviews[i].split(\" \"):\n",
    "            positive_counts[word] += 1\n",
    "            total_counts[word] += 1\n",
    "    else:\n",
    "        for word in reviews[i].split(\" \"):\n",
    "            negative_counts[word] += 1\n",
    "            total_counts[word] += 1"
   ]
  },
  {
   "cell_type": "code",
   "execution_count": 12,
   "metadata": {
    "id": "IX6QYAZAHWKA"
   },
   "outputs": [
    {
     "data": {
      "text/plain": [
       "[('', 550468),\n",
       " ('the', 173324),\n",
       " ('.', 159654),\n",
       " ('and', 89722),\n",
       " ('a', 83688),\n",
       " ('of', 76855),\n",
       " ('to', 66746),\n",
       " ('is', 57245),\n",
       " ('in', 50215),\n",
       " ('br', 49235)]"
      ]
     },
     "execution_count": 12,
     "metadata": {},
     "output_type": "execute_result"
    }
   ],
   "source": [
    "positive_counts.most_common(10)"
   ]
  },
  {
   "cell_type": "code",
   "execution_count": 13,
   "metadata": {
    "id": "d9jcE5CGbZab"
   },
   "outputs": [
    {
     "data": {
      "text/plain": [
       "[('', 561462),\n",
       " ('.', 167538),\n",
       " ('the', 163389),\n",
       " ('a', 79321),\n",
       " ('and', 74385),\n",
       " ('of', 69009),\n",
       " ('to', 68974),\n",
       " ('br', 52637),\n",
       " ('is', 50083),\n",
       " ('it', 48327)]"
      ]
     },
     "execution_count": 13,
     "metadata": {},
     "output_type": "execute_result"
    }
   ],
   "source": [
    "negative_counts.most_common(10)"
   ]
  },
  {
   "cell_type": "code",
   "execution_count": 14,
   "metadata": {
    "id": "56UEs2mpbZlA"
   },
   "outputs": [
    {
     "data": {
      "text/plain": [
       "[('', 1111930),\n",
       " ('the', 336713),\n",
       " ('.', 327192),\n",
       " ('and', 164107),\n",
       " ('a', 163009),\n",
       " ('of', 145864),\n",
       " ('to', 135720),\n",
       " ('is', 107328),\n",
       " ('br', 101872),\n",
       " ('it', 96352)]"
      ]
     },
     "execution_count": 14,
     "metadata": {},
     "output_type": "execute_result"
    }
   ],
   "source": [
    "total_counts.most_common(10)"
   ]
  },
  {
   "cell_type": "markdown",
   "metadata": {
    "id": "oeZvc1p6dj84"
   },
   "source": [
    "El resultado del conteo muestra que las stopwords están presentes tanto en críticas positivas como en críticas negativas y pueden añadir ruido a la hora crear un modelo de clasificación. ¿Cómo podemos sacar aquellas palabras que son un indicador claro de que se trata de una crítica positiva o negativa? "
   ]
  },
  {
   "cell_type": "markdown",
   "metadata": {
    "id": "viJr7UXGeVbu"
   },
   "source": [
    "### 3. Análisis cuantitativo términos: Ratios"
   ]
  },
  {
   "cell_type": "markdown",
   "metadata": {
    "id": "YmhHY4jvek4X"
   },
   "source": [
    "Vamos a calcular los ratios de aparición de los términos de la siguiente manera: ratio = positive_counts/float(negative_counts + 1).\n",
    "\n",
    "**Nota**: vamos a trabajar unicamente con aquellos términos que **en total** aparecen 101 o más veces."
   ]
  },
  {
   "cell_type": "markdown",
   "metadata": {
    "id": "GDOywUqOfDli"
   },
   "source": [
    "*   ¿Por qué ese +1 en el denominador?\n",
    "*   A bote pronto, ¿cómo interpretaríamos los resultados? ¿En qué rango se van a mover los ratios?\n",
    "\n"
   ]
  },
  {
   "cell_type": "code",
   "execution_count": 15,
   "metadata": {
    "id": "ktFv5uKydaCP"
   },
   "outputs": [],
   "source": [
    "pos_neg_ratios = Counter()\n",
    "\n",
    "# Calcula el ratio para los término más comunes\n",
    "for term, cnt in list(total_counts.most_common()):\n",
    "     if(cnt > 100):\n",
    "        pos_neg_ratio = positive_counts[term] / float(negative_counts[term]+1)\n",
    "        pos_neg_ratios[term] = pos_neg_ratio"
   ]
  },
  {
   "cell_type": "code",
   "execution_count": 16,
   "metadata": {
    "id": "O2BnMZPsf3_7"
   },
   "outputs": [
    {
     "data": {
      "text/plain": [
       "[('edie', 109.0),\n",
       " ('paulie', 59.0),\n",
       " ('felix', 23.4),\n",
       " ('polanski', 16.833333333333332),\n",
       " ('matthau', 16.555555555555557),\n",
       " ('victoria', 14.6),\n",
       " ('mildred', 13.5),\n",
       " ('gandhi', 12.666666666666666),\n",
       " ('flawless', 11.6),\n",
       " ('superbly', 9.583333333333334),\n",
       " ('perfection', 8.666666666666666),\n",
       " ('astaire', 8.5),\n",
       " ('captures', 7.68),\n",
       " ('voight', 7.615384615384615),\n",
       " ('wonderfully', 7.552631578947368)]"
      ]
     },
     "execution_count": 16,
     "metadata": {},
     "output_type": "execute_result"
    }
   ],
   "source": [
    "pos_neg_ratios.most_common(15)"
   ]
  },
  {
   "cell_type": "code",
   "execution_count": 17,
   "metadata": {
    "id": "HVQ2eL6j-66Z"
   },
   "outputs": [
    {
     "name": "stdout",
     "output_type": "stream",
     "text": [
      "Pos-to-neg ratio for 'the' = 1.0607993145235326\n",
      "Pos-to-neg ratio for 'amazing' = 4.022813688212928\n",
      "Pos-to-neg ratio for 'terrible' = 0.17744252873563218\n"
     ]
    }
   ],
   "source": [
    "## Algunos ejemplos que nos ayudan a interpretar los resultados\n",
    "print(\"Pos-to-neg ratio for 'the' = {}\".format(pos_neg_ratios[\"the\"]))\n",
    "print(\"Pos-to-neg ratio for 'amazing' = {}\".format(pos_neg_ratios[\"amazing\"]))\n",
    "print(\"Pos-to-neg ratio for 'terrible' = {}\".format(pos_neg_ratios[\"terrible\"]))"
   ]
  },
  {
   "cell_type": "markdown",
   "metadata": {
    "id": "oaRceyK0gTdi"
   },
   "source": [
    "¿Qué problema tiene esta definición de ratio? ¿Cómo lo solucionamos?"
   ]
  },
  {
   "cell_type": "markdown",
   "metadata": {
    "id": "1CquUDSegmpV"
   },
   "source": [
    "### 4. Análisis cuantitativo términos: Logaritmos"
   ]
  },
  {
   "cell_type": "markdown",
   "metadata": {
    "id": "nEFWetNNg2pR"
   },
   "source": [
    "Al aplicar logaritmos a los valores calculados en el apartado anterior hacemos que los valores por debajo de 1 pasen a ser negativos (y con valor absoluto más alto cuanto más cercanos a 0 sean) y además conseguimos que dos términos con frecuencias relativas parecidas pero en críticas de signo distinto tomen valores con valor absoluto parecido y signo contrario."
   ]
  },
  {
   "cell_type": "code",
   "execution_count": 18,
   "metadata": {
    "id": "w6SwM1-5-66d"
   },
   "outputs": [],
   "source": [
    "# Calcula el logaritmo de los ratios para todos los términos\n",
    "for term,ratio in list(pos_neg_ratios.most_common()):\n",
    "    pos_neg_ratios[term] = np.log(ratio)"
   ]
  },
  {
   "cell_type": "code",
   "execution_count": 19,
   "metadata": {
    "id": "nelsu3orhrz_"
   },
   "outputs": [
    {
     "data": {
      "text/plain": [
       "[('edie', 4.6913478822291435),\n",
       " ('paulie', 4.07753744390572),\n",
       " ('felix', 3.152736022363656),\n",
       " ('polanski', 2.8233610476132043),\n",
       " ('matthau', 2.80672172860924),\n",
       " ('victoria', 2.681021528714291),\n",
       " ('mildred', 2.6026896854443837),\n",
       " ('gandhi', 2.538973871058276),\n",
       " ('flawless', 2.451005098112319),\n",
       " ('superbly', 2.26002547857525),\n",
       " ('perfection', 2.159484249353372),\n",
       " ('astaire', 2.1400661634962708),\n",
       " ('captures', 2.038619547159581),\n",
       " ('voight', 2.030170492673053),\n",
       " ('wonderfully', 2.0218960560332353)]"
      ]
     },
     "execution_count": 19,
     "metadata": {},
     "output_type": "execute_result"
    }
   ],
   "source": [
    "pos_neg_ratios.most_common(15)"
   ]
  },
  {
   "cell_type": "code",
   "execution_count": 20,
   "metadata": {
    "id": "ac4dUOgEhnML"
   },
   "outputs": [
    {
     "name": "stdout",
     "output_type": "stream",
     "text": [
      "Pos-to-neg ratio for 'the' = 0.05902269426102881\n",
      "Pos-to-neg ratio for 'amazing' = 1.3919815802404802\n",
      "Pos-to-neg ratio for 'terrible' = -1.7291085042663878\n"
     ]
    }
   ],
   "source": [
    "## Algunos ejemplos que nos ayudan a interpretar los resultados\n",
    "print(\"Pos-to-neg ratio for 'the' = {}\".format(pos_neg_ratios[\"the\"]))\n",
    "print(\"Pos-to-neg ratio for 'amazing' = {}\".format(pos_neg_ratios[\"amazing\"]))\n",
    "print(\"Pos-to-neg ratio for 'terrible' = {}\".format(pos_neg_ratios[\"terrible\"]))"
   ]
  },
  {
   "cell_type": "code",
   "execution_count": 21,
   "metadata": {
    "id": "BuwnIl_Wh8e5"
   },
   "outputs": [
    {
     "data": {
      "text/plain": [
       "[('boll', -4.969813299576001),\n",
       " ('uwe', -4.624972813284271),\n",
       " ('seagal', -3.644143560272545),\n",
       " ('unwatchable', -3.258096538021482),\n",
       " ('stinker', -3.2088254890146994),\n",
       " ('mst', -2.9502698994772336),\n",
       " ('incoherent', -2.9368917735310576),\n",
       " ('unfunny', -2.6922395950755678),\n",
       " ('waste', -2.6193845640165536),\n",
       " ('blah', -2.5704288232261625),\n",
       " ('horrid', -2.4849066497880004),\n",
       " ('pointless', -2.4553061800117097),\n",
       " ('atrocious', -2.4259083090260445),\n",
       " ('redeeming', -2.3682390632154826),\n",
       " ('prom', -2.3608540011180215),\n",
       " ('drivel', -2.3470368555648795),\n",
       " ('lousy', -2.307572634505085),\n",
       " ('worst', -2.286987896180378),\n",
       " ('laughable', -2.264363880173848),\n",
       " ('awful', -2.227194247027435),\n",
       " ('poorly', -2.2207550747464135),\n",
       " ('wasting', -2.204604684633842),\n",
       " ('remotely', -2.1972245773362196),\n",
       " ('existent', -2.0794415416798357),\n",
       " ('boredom', -1.995100393246085),\n",
       " ('miserably', -1.9924301646902063),\n",
       " ('sucks', -1.987068221548821),\n",
       " ('uninspired', -1.9832976811269336),\n",
       " ('lame', -1.981767458946166),\n",
       " ('insult', -1.978345424808467)]"
      ]
     },
     "execution_count": 21,
     "metadata": {},
     "output_type": "execute_result"
    }
   ],
   "source": [
    "pos_neg_ratios.most_common()[:-31:-1]"
   ]
  },
  {
   "cell_type": "markdown",
   "metadata": {
    "id": "4hdAIKBvJEKa"
   },
   "source": [
    "### 5. Modelo de clasificación basado en bag of words"
   ]
  },
  {
   "cell_type": "markdown",
   "metadata": {
    "id": "hD8mLKkKJOaL"
   },
   "source": [
    "Vamos a aplicar la técnica de bag of words paso a paso a cada una de las críticas con el objetivo de convertirlas en vectores numéricos que sirvan de features de un nuestro modelo.\n",
    "\n",
    "#### Primer paso: construir el conjunto de palabras de nuestros vocabulario."
   ]
  },
  {
   "cell_type": "code",
   "execution_count": 22,
   "metadata": {
    "id": "XbWDpvonhp7n"
   },
   "outputs": [],
   "source": [
    "vocab = set(total_counts.keys())"
   ]
  },
  {
   "cell_type": "code",
   "execution_count": 23,
   "metadata": {
    "id": "ASu4GwbSJt_u"
   },
   "outputs": [
    {
     "data": {
      "text/plain": [
       "74074"
      ]
     },
     "execution_count": 23,
     "metadata": {},
     "output_type": "execute_result"
    }
   ],
   "source": [
    "vocab_size = len(vocab)\n",
    "vocab_size"
   ]
  },
  {
   "cell_type": "code",
   "execution_count": 24,
   "metadata": {},
   "outputs": [
    {
     "data": {
      "text/plain": [
       "{'',\n",
       " 'thunderball',\n",
       " 'curling',\n",
       " 'mower',\n",
       " 'osullivan',\n",
       " 'incinerates',\n",
       " 'woodrow',\n",
       " 'invest',\n",
       " 'henreid',\n",
       " 'phocion',\n",
       " 'attains',\n",
       " 'luby',\n",
       " 'malcomx',\n",
       " 'workgroup',\n",
       " 'omigod',\n",
       " 'ende',\n",
       " 'preyall',\n",
       " 'udit',\n",
       " 'anji',\n",
       " 'rm',\n",
       " 'eehaaa',\n",
       " 'toyland',\n",
       " 'flesheating',\n",
       " 'arcturus',\n",
       " 'wyman',\n",
       " 'microbiology',\n",
       " 'mood',\n",
       " 'sette',\n",
       " 'galumphing',\n",
       " 'civilisation',\n",
       " 'fatherly',\n",
       " 'kuriyami',\n",
       " 'boastful',\n",
       " 'yarding',\n",
       " 'encourage',\n",
       " 'messier',\n",
       " 'contemptuous',\n",
       " 'cleverest',\n",
       " 'sock',\n",
       " 'reminder',\n",
       " 'vineyard',\n",
       " 'furdion',\n",
       " 'illiterate',\n",
       " 'siskel',\n",
       " 'caputured',\n",
       " 'freshness',\n",
       " 'whotta',\n",
       " 'metaphysics',\n",
       " 'trongard',\n",
       " 'crackpot',\n",
       " 'sugden',\n",
       " 'sloppiest',\n",
       " 'unscrewed',\n",
       " 'boleslowski',\n",
       " 'sofas',\n",
       " 'idrissa',\n",
       " 'del',\n",
       " 'shiny',\n",
       " 'successfully',\n",
       " 'xplanation',\n",
       " 'newpaper',\n",
       " 'fumiya',\n",
       " 'nieporte',\n",
       " 'ziggy',\n",
       " 'hansom',\n",
       " 'misdirecting',\n",
       " 'discoverer',\n",
       " 'aide',\n",
       " 'mehndi',\n",
       " 'torrens',\n",
       " 'westing',\n",
       " 'amita',\n",
       " 'signified',\n",
       " 'simultaneous',\n",
       " 'lengthen',\n",
       " 'drowsily',\n",
       " 'bombadier',\n",
       " 'violated',\n",
       " 'peary',\n",
       " 'kantrowitz',\n",
       " 'tolerating',\n",
       " 'kerkhof',\n",
       " 'capo',\n",
       " 'pink',\n",
       " 'vinyl',\n",
       " 'trumps',\n",
       " 'stoneman',\n",
       " 'kamiki',\n",
       " 'zod',\n",
       " 'fever',\n",
       " 'elsen',\n",
       " 'powered',\n",
       " 'meritorious',\n",
       " 'chilkats',\n",
       " 'avocation',\n",
       " 'slackly',\n",
       " 'targeted',\n",
       " 'unbelievability',\n",
       " 'corrina',\n",
       " 'mccrea',\n",
       " 'unyielding',\n",
       " 'in',\n",
       " 'cable',\n",
       " 'shroeder',\n",
       " 'visualizations',\n",
       " 'grat',\n",
       " 'overshooting',\n",
       " 'sonorous',\n",
       " 'wrestlers',\n",
       " 'kathly',\n",
       " 'zann',\n",
       " 'appallonia',\n",
       " 'choosened',\n",
       " 'deficient',\n",
       " 'mckellen',\n",
       " 'pothole',\n",
       " 'deth',\n",
       " 'squeeing',\n",
       " 'abusers',\n",
       " 'robbins',\n",
       " 'criminally',\n",
       " 'quicker',\n",
       " 'kaiba',\n",
       " 'ambiance',\n",
       " 'non',\n",
       " 'sobbingly',\n",
       " 'horizons',\n",
       " 'introduced',\n",
       " 'jabaar',\n",
       " 'imperfection',\n",
       " 'domesticate',\n",
       " 'verhoven',\n",
       " 'tranquillo',\n",
       " 'agent',\n",
       " 'spleen',\n",
       " 'sundry',\n",
       " 'ringleader',\n",
       " 'pecked',\n",
       " 'synchronized',\n",
       " 'lousy',\n",
       " 'hearkens',\n",
       " 'astounding',\n",
       " 'snips',\n",
       " 'adell',\n",
       " 'ignatova',\n",
       " 'monument',\n",
       " 'coastal',\n",
       " 'theissen',\n",
       " 'clamshell',\n",
       " 'allocated',\n",
       " 'wastepaper',\n",
       " 'lipped',\n",
       " 'vilify',\n",
       " 'silvano',\n",
       " 'bankrolled',\n",
       " 'fusing',\n",
       " 'uncronological',\n",
       " 'falak',\n",
       " 'glorfindel',\n",
       " 'upchucking',\n",
       " 'shirely',\n",
       " 'organization',\n",
       " 'sidelines',\n",
       " 'absentminded',\n",
       " 'whistles',\n",
       " 'maladroit',\n",
       " 'transporting',\n",
       " 'dislikable',\n",
       " 'nr',\n",
       " 'vovochka',\n",
       " 'jazzman',\n",
       " 'stonehenge',\n",
       " 'baltimorean',\n",
       " 'waxwork',\n",
       " 'spacial',\n",
       " 'sweeney',\n",
       " 'cartouche',\n",
       " 'charged',\n",
       " 'audiovisual',\n",
       " 'vacationers',\n",
       " 'frenegonde',\n",
       " 'pucelle',\n",
       " 'retail',\n",
       " 'tripwires',\n",
       " 'yannis',\n",
       " 'seiing',\n",
       " 'reinvention',\n",
       " 'intuition',\n",
       " 'exacerbated',\n",
       " 'greist',\n",
       " 'cattrall',\n",
       " 'editing',\n",
       " 'groan',\n",
       " 'unto',\n",
       " 'thames',\n",
       " 'constructs',\n",
       " 'liberating',\n",
       " 'retracted',\n",
       " 'bouyant',\n",
       " 'brazlia',\n",
       " 'esmond',\n",
       " 'nurtures',\n",
       " 'disputable',\n",
       " 'psfrollo',\n",
       " 'wyld',\n",
       " 'haaaaaaaaaaaaaarr',\n",
       " 'menon',\n",
       " 'kinka',\n",
       " 'moviefreak',\n",
       " 'fernandes',\n",
       " 'hindering',\n",
       " 'pricing',\n",
       " 'consummated',\n",
       " 'succubus',\n",
       " 'speeding',\n",
       " 'linen',\n",
       " 'lighting',\n",
       " 'unnatural',\n",
       " 'shielded',\n",
       " 'gorgon',\n",
       " 'lemmon',\n",
       " 'tushar',\n",
       " 'degrees',\n",
       " 'liliom',\n",
       " 'broccoli',\n",
       " 'philomath',\n",
       " 'accorded',\n",
       " 'citta',\n",
       " 'altron',\n",
       " 'muder',\n",
       " 'dominos',\n",
       " 'freindship',\n",
       " 'happiness',\n",
       " 'tattoo',\n",
       " 'evaluation',\n",
       " 'rejoice',\n",
       " 'vill',\n",
       " 'shabnam',\n",
       " 'intrepid',\n",
       " 'amplified',\n",
       " 'rubano',\n",
       " 'nechayev',\n",
       " 'sega',\n",
       " 'appalling',\n",
       " 'ramundo',\n",
       " 'highly',\n",
       " 'kuo',\n",
       " 'splittingly',\n",
       " 'premise',\n",
       " 'ronnie',\n",
       " 'bosses',\n",
       " 'resonation',\n",
       " 'versifying',\n",
       " 'diminution',\n",
       " 'rights',\n",
       " 'arigatou',\n",
       " 'guidelines',\n",
       " 'alwin',\n",
       " 'maronna',\n",
       " 'lotr',\n",
       " 'narrates',\n",
       " 'letty',\n",
       " 'exclaimed',\n",
       " 'initially',\n",
       " 'norwegian',\n",
       " 'volleyball',\n",
       " 'washrooms',\n",
       " 'enunciation',\n",
       " 'charisma',\n",
       " 'weverka',\n",
       " 'yadav',\n",
       " 'kraft',\n",
       " 'worldwide',\n",
       " 'defended',\n",
       " 'horrifying',\n",
       " 'homicidal',\n",
       " 'rooms',\n",
       " 'fugitive',\n",
       " 'germs',\n",
       " 'tolstoy',\n",
       " 'tellings',\n",
       " 'pratically',\n",
       " 'phipps',\n",
       " 'uneasy',\n",
       " 'pursuit',\n",
       " 'shipyards',\n",
       " 'intruders',\n",
       " 'stivic',\n",
       " 'jos',\n",
       " 'youngers',\n",
       " 'ullman',\n",
       " 'curving',\n",
       " 'kinematograph',\n",
       " 'magaret',\n",
       " 'variety',\n",
       " 'cama',\n",
       " 'elders',\n",
       " 'berner',\n",
       " 'cugat',\n",
       " 'mollifies',\n",
       " 'sheng',\n",
       " 'decadents',\n",
       " 'zaara',\n",
       " 'sets',\n",
       " 'gunslingers',\n",
       " 'frivolities',\n",
       " 'slipstream',\n",
       " 'lycanthropic',\n",
       " 'marylin',\n",
       " 'momo',\n",
       " 'childen',\n",
       " 'privies',\n",
       " 'adding',\n",
       " 'savingtheday',\n",
       " 'advisors',\n",
       " 'pea',\n",
       " 'furtilized',\n",
       " 'cousy',\n",
       " 'boggle',\n",
       " 'alistar',\n",
       " 'charred',\n",
       " 'whic',\n",
       " 'barca',\n",
       " 'dreamer',\n",
       " 'santosh',\n",
       " 'cocoons',\n",
       " 'hars',\n",
       " 'youngest',\n",
       " 'blouses',\n",
       " 'syringe',\n",
       " 'triad',\n",
       " 'sunrise',\n",
       " 'fortified',\n",
       " 'palpable',\n",
       " 'tammi',\n",
       " 'tolls',\n",
       " 'transgressive',\n",
       " 'irina',\n",
       " 'yankland',\n",
       " 'luckily',\n",
       " 'fiercely',\n",
       " 'fizzle',\n",
       " 'hysterion',\n",
       " 'negligent',\n",
       " 'moreno',\n",
       " 'dishonours',\n",
       " 'goldfinger',\n",
       " 'distracted',\n",
       " 'follows',\n",
       " 'subordinates',\n",
       " 'stowe',\n",
       " 'slavic',\n",
       " 'stauffenberg',\n",
       " 'volcanoes',\n",
       " 'hearfelt',\n",
       " 'handpicked',\n",
       " 'vitality',\n",
       " 'kliegs',\n",
       " 'wooed',\n",
       " 'increments',\n",
       " 'barbara',\n",
       " 'nietzche',\n",
       " 'anthropophagus',\n",
       " 'laborer',\n",
       " 'fuzziness',\n",
       " 'thaws',\n",
       " 'pragmatics',\n",
       " 'carridine',\n",
       " 'competitor',\n",
       " 'fife',\n",
       " 'unjaded',\n",
       " 'worser',\n",
       " 'comparably',\n",
       " 'pool',\n",
       " 'booger',\n",
       " 'paleographic',\n",
       " 'sheepskin',\n",
       " 'blockades',\n",
       " 'boooo',\n",
       " 'stained',\n",
       " 'dozes',\n",
       " 'reportedly',\n",
       " 'guffaws',\n",
       " 'enslave',\n",
       " 'storytellers',\n",
       " 'heezy',\n",
       " 'patching',\n",
       " 'shoppe',\n",
       " 'tortuously',\n",
       " 'kroual',\n",
       " 'corri',\n",
       " 'coupling',\n",
       " 'minigenre',\n",
       " 'superthunderstingcar',\n",
       " 'cineliterate',\n",
       " 'adept',\n",
       " 'burstingly',\n",
       " 'insector',\n",
       " 'majel',\n",
       " 'percussionist',\n",
       " 'rigging',\n",
       " 'rockin',\n",
       " 'emasculate',\n",
       " 'dtr',\n",
       " 'kosovo',\n",
       " 'buttocks',\n",
       " 'unconsumated',\n",
       " 'surnow',\n",
       " 'lipgloss',\n",
       " 'locks',\n",
       " 'backing',\n",
       " 'presides',\n",
       " 'wiedersehen',\n",
       " 'lloyd',\n",
       " 'ripping',\n",
       " 'owners',\n",
       " 'dirossario',\n",
       " 'fertility',\n",
       " 'fortuitously',\n",
       " 'vamsi',\n",
       " 'badlands',\n",
       " 'ian',\n",
       " 'aspires',\n",
       " 'ulster',\n",
       " 'bringing',\n",
       " 'rocker',\n",
       " 'cronies',\n",
       " 'latinos',\n",
       " 'crimefighter',\n",
       " 'gloved',\n",
       " 'georgi',\n",
       " 'mops',\n",
       " 'alvarado',\n",
       " 'freshmen',\n",
       " 'yard',\n",
       " 'electro',\n",
       " 'lazio',\n",
       " 'freshener',\n",
       " 'brillant',\n",
       " 'souped',\n",
       " 'andcompelling',\n",
       " 'mindframe',\n",
       " 'truisms',\n",
       " 'qualm',\n",
       " 'williams',\n",
       " 'flamin',\n",
       " 'blurred',\n",
       " 'moviehowever',\n",
       " 'absurdity',\n",
       " 'secretions',\n",
       " 'eventuality',\n",
       " 'shinji',\n",
       " 'positivity',\n",
       " 'encore',\n",
       " 'minces',\n",
       " 'scriptdirectoractors',\n",
       " 'speak',\n",
       " 'oedpius',\n",
       " 'offisde',\n",
       " 'reworked',\n",
       " 'tzc',\n",
       " 'denizens',\n",
       " 'salomaa',\n",
       " 'freudians',\n",
       " 'shayesteh',\n",
       " 'elegiac',\n",
       " 'descents',\n",
       " 'bhabhi',\n",
       " 'cellmate',\n",
       " 'deever',\n",
       " 'wednesdays',\n",
       " 'oyama',\n",
       " 'celario',\n",
       " 'prejudices',\n",
       " 'mrquez',\n",
       " 'legolas',\n",
       " 'doubting',\n",
       " 'miffed',\n",
       " 'pronounciationsp',\n",
       " 'mumbled',\n",
       " 'mallika',\n",
       " 'hosing',\n",
       " 'regehr',\n",
       " 'reicher',\n",
       " 'wheaton',\n",
       " 'utilized',\n",
       " 'hitchcock',\n",
       " 'stevie',\n",
       " 'goyokin',\n",
       " 'interruped',\n",
       " 'cleanest',\n",
       " 'wafers',\n",
       " 'fuzzy',\n",
       " 'entwistle',\n",
       " 'whalers',\n",
       " 'objectivistic',\n",
       " 'egyptianas',\n",
       " 'langley',\n",
       " 'terminating',\n",
       " 'hireing',\n",
       " 'satirise',\n",
       " 'amigo',\n",
       " 'coolish',\n",
       " 'plodded',\n",
       " 'vassar',\n",
       " 'womans',\n",
       " 'balikbayan',\n",
       " 'enhancements',\n",
       " 'job',\n",
       " 'histories',\n",
       " 'mavis',\n",
       " 'biryani',\n",
       " 'canoe',\n",
       " 'kalser',\n",
       " 'protaganiste',\n",
       " 'vampyros',\n",
       " 'ottoman',\n",
       " 'cinematopghaphy',\n",
       " 'hairdo',\n",
       " 'burger',\n",
       " 'kinlan',\n",
       " 'chuncho',\n",
       " 'atrocities',\n",
       " 'ld',\n",
       " 'dec',\n",
       " 'amneris',\n",
       " 'coonskin',\n",
       " 'totem',\n",
       " 'philo',\n",
       " 'fobidden',\n",
       " 'sabu',\n",
       " 'sift',\n",
       " 'totaly',\n",
       " 'cordobes',\n",
       " 'beset',\n",
       " 'ignominiously',\n",
       " 'bonaparte',\n",
       " 'shadowing',\n",
       " 'languidly',\n",
       " 'derisive',\n",
       " 'fascistic',\n",
       " 'overexciting',\n",
       " 'habituation',\n",
       " 'rapidity',\n",
       " 'monitor',\n",
       " 'improve',\n",
       " 'masquerades',\n",
       " 'tiku',\n",
       " 'stonking',\n",
       " 'telemovie',\n",
       " 'albinoni',\n",
       " 'marilyn',\n",
       " 'madmen',\n",
       " 'annie',\n",
       " 'moko',\n",
       " 'fanatic',\n",
       " 'superstars',\n",
       " 'tlc',\n",
       " 'kfc',\n",
       " 'amoretti',\n",
       " 'reclaimed',\n",
       " 'grays',\n",
       " 'autopsied',\n",
       " 'latinamerican',\n",
       " 'crasher',\n",
       " 'byniarski',\n",
       " 'homunculi',\n",
       " 'graft',\n",
       " 'cruse',\n",
       " 'innaccurate',\n",
       " 'cristopher',\n",
       " 'confound',\n",
       " 'unbilled',\n",
       " 'dublin',\n",
       " 'reccommend',\n",
       " 'cranberry',\n",
       " 'copiers',\n",
       " 'stows',\n",
       " 'lured',\n",
       " 'bankrupt',\n",
       " 'comrades',\n",
       " 'sierra',\n",
       " 'sardonic',\n",
       " 'procedure',\n",
       " 'nicmart',\n",
       " 'hybrids',\n",
       " 'aznable',\n",
       " 'ferdos',\n",
       " 'bracing',\n",
       " 'threatens',\n",
       " 'archenemy',\n",
       " 'brannigan',\n",
       " 'scouting',\n",
       " 'mo',\n",
       " 'stylistically',\n",
       " 'imaginative',\n",
       " 'starkly',\n",
       " 'ridgement',\n",
       " 'cautions',\n",
       " 'unhellish',\n",
       " 'yukfest',\n",
       " 'concise',\n",
       " 'om',\n",
       " 'chinnarasu',\n",
       " 'viability',\n",
       " 'coastline',\n",
       " 'nicktoons',\n",
       " 'welshman',\n",
       " 'verna',\n",
       " 'picks',\n",
       " 'crossover',\n",
       " 'tequila',\n",
       " 'showdowns',\n",
       " 'exeption',\n",
       " 'gollam',\n",
       " 'raunchier',\n",
       " 'smolder',\n",
       " 'bendre',\n",
       " 'collecting',\n",
       " 'marketers',\n",
       " 'layabout',\n",
       " 'pinpoint',\n",
       " 'curser',\n",
       " 'barbies',\n",
       " 'seriousuly',\n",
       " 'landsbury',\n",
       " 'eburne',\n",
       " 'passages',\n",
       " 'commonsense',\n",
       " 'thrillers',\n",
       " 'shoppers',\n",
       " 'brasiliano',\n",
       " 'plump',\n",
       " 'gopal',\n",
       " 'lek',\n",
       " 'muppets',\n",
       " 'americans',\n",
       " 'slapdash',\n",
       " 'umney',\n",
       " 'impressionable',\n",
       " 'mccartle',\n",
       " 'weakness',\n",
       " 'decomposition',\n",
       " 'ff',\n",
       " 'unravelled',\n",
       " 'retracing',\n",
       " 'nemisis',\n",
       " 'hollwyood',\n",
       " 'nandani',\n",
       " 'nationally',\n",
       " 'leeves',\n",
       " 'exert',\n",
       " 'unearthing',\n",
       " 'cale',\n",
       " 'afirming',\n",
       " 'furmann',\n",
       " 'contrary',\n",
       " 'dn',\n",
       " 'propelled',\n",
       " 'wranglers',\n",
       " 'ishai',\n",
       " 'begun',\n",
       " 'szalinsky',\n",
       " 'mayfair',\n",
       " 'eisley',\n",
       " 'ven',\n",
       " 'secombe',\n",
       " 'origin',\n",
       " 'dob',\n",
       " 'hamburg',\n",
       " 'vases',\n",
       " 'franfreako',\n",
       " 'thanx',\n",
       " 'killearn',\n",
       " 'drier',\n",
       " 'stabler',\n",
       " 'lizzie',\n",
       " 'joyriding',\n",
       " 'galvatron',\n",
       " 'hagel',\n",
       " 'bono',\n",
       " 'dishonest',\n",
       " 'largley',\n",
       " 'manette',\n",
       " 'food',\n",
       " 'campyness',\n",
       " 'scrawl',\n",
       " 'keanu',\n",
       " 'defeating',\n",
       " 'sttng',\n",
       " 'anywayz',\n",
       " 'hitters',\n",
       " 'koboi',\n",
       " 'tcheky',\n",
       " 'committee',\n",
       " 'cave',\n",
       " 'extense',\n",
       " 'encroachments',\n",
       " 'tantrapur',\n",
       " 'manuscript',\n",
       " 'pacierkowski',\n",
       " 'strength',\n",
       " 'yasminda',\n",
       " 'goeres',\n",
       " 'complimented',\n",
       " 'feore',\n",
       " 'thickies',\n",
       " 'johhny',\n",
       " 'newsstand',\n",
       " 'reservist',\n",
       " 'parc',\n",
       " 'brisson',\n",
       " 'inuiyasha',\n",
       " 'consumer',\n",
       " 'indications',\n",
       " 'ohhh',\n",
       " 'brionowski',\n",
       " 'willi',\n",
       " 'ciff',\n",
       " 'marv',\n",
       " 'symposium',\n",
       " 'gradations',\n",
       " 'johan',\n",
       " 'durians',\n",
       " 'indignity',\n",
       " 'verne',\n",
       " 'rei',\n",
       " 'wooley',\n",
       " 'frenzy',\n",
       " 'baer',\n",
       " 'ecclesiastical',\n",
       " 'perabo',\n",
       " 'extinguishers',\n",
       " 'longendecker',\n",
       " 'imprints',\n",
       " 'thevillagevideot',\n",
       " 'candlesticks',\n",
       " 'emmerdale',\n",
       " 'orthopedic',\n",
       " 'coordinates',\n",
       " 'ruffin',\n",
       " 'clumsy',\n",
       " 'spurted',\n",
       " 'harding',\n",
       " 'fashions',\n",
       " 'jana',\n",
       " 'morimoto',\n",
       " 'reemerge',\n",
       " 'allie',\n",
       " 'predominately',\n",
       " 'vilarasau',\n",
       " 'properly',\n",
       " 'highjinx',\n",
       " 'doorknobs',\n",
       " 'biron',\n",
       " 'tane',\n",
       " 'meadows',\n",
       " 'whitey',\n",
       " 'wendi',\n",
       " 'bunnie',\n",
       " 'chemically',\n",
       " 'invents',\n",
       " 'beehives',\n",
       " 'ronde',\n",
       " 'roi',\n",
       " 'penultimate',\n",
       " 'mellisa',\n",
       " 'wrongful',\n",
       " 'cheeseburgers',\n",
       " 'reddin',\n",
       " 'loudest',\n",
       " 'defensiveness',\n",
       " 'ross',\n",
       " 'nettie',\n",
       " 'latifah',\n",
       " 'wournow',\n",
       " 'hegemony',\n",
       " 'mildest',\n",
       " 'schlongs',\n",
       " 'reasoning',\n",
       " 'dowry',\n",
       " 'springsteen',\n",
       " 'riki',\n",
       " 'toshikazu',\n",
       " 'storey',\n",
       " 'patting',\n",
       " 'veranda',\n",
       " 'moranis',\n",
       " 'ageless',\n",
       " 'disowning',\n",
       " 'glienna',\n",
       " 'ejecting',\n",
       " 'poopchev',\n",
       " 'destino',\n",
       " 'omar',\n",
       " 'theatrics',\n",
       " 'cokes',\n",
       " 'deathit',\n",
       " 'kleenex',\n",
       " 'manitoba',\n",
       " 'sniffed',\n",
       " 'morneau',\n",
       " 'vitas',\n",
       " 'emission',\n",
       " 'mesias',\n",
       " 'ithought',\n",
       " 'antiquities',\n",
       " 'indonesians',\n",
       " 'incarnate',\n",
       " 'madonna',\n",
       " 'smartie',\n",
       " 'neighing',\n",
       " 'agey',\n",
       " 'mistranslation',\n",
       " 'parlors',\n",
       " 'expending',\n",
       " 'iridescent',\n",
       " 'decors',\n",
       " 'abyssmal',\n",
       " 'rotheroe',\n",
       " 'cristiana',\n",
       " 'spanked',\n",
       " 'passing',\n",
       " 'conundrum',\n",
       " 'subway',\n",
       " 'tvone',\n",
       " 'whisperer',\n",
       " 'endings',\n",
       " 'thriller',\n",
       " 'teeenage',\n",
       " 'mohanlal',\n",
       " 'enraptured',\n",
       " 'savaged',\n",
       " 'skeletons',\n",
       " 'baskets',\n",
       " 'jamboree',\n",
       " 'wildmon',\n",
       " 'laudanum',\n",
       " 'monde',\n",
       " 'musican',\n",
       " 'heathcliffe',\n",
       " 'antagonistic',\n",
       " 'gapes',\n",
       " 'dues',\n",
       " 'stiltedly',\n",
       " 'brereton',\n",
       " 'iona',\n",
       " 'peacemakers',\n",
       " 'norrland',\n",
       " 'batmans',\n",
       " 'bankcrupcy',\n",
       " 'recruitment',\n",
       " 'dads',\n",
       " 'paradorian',\n",
       " 'mama',\n",
       " 'torrent',\n",
       " 'wartime',\n",
       " 'worms',\n",
       " 'frequented',\n",
       " 'fnnish',\n",
       " 'maximilian',\n",
       " 'deviations',\n",
       " 'menially',\n",
       " 'streetfighter',\n",
       " 'looping',\n",
       " 'joss',\n",
       " 'dystopic',\n",
       " 'quarrel',\n",
       " 'golberg',\n",
       " 'daytime',\n",
       " 'kirsted',\n",
       " 'contracter',\n",
       " 'unhittable',\n",
       " 'humorist',\n",
       " 'jessup',\n",
       " 'consistence',\n",
       " 'occurrences',\n",
       " 'pym',\n",
       " 'contrast',\n",
       " 'hinson',\n",
       " 'cineplex',\n",
       " 'continent',\n",
       " 'dissapears',\n",
       " 'milverton',\n",
       " 'togs',\n",
       " 'elinor',\n",
       " 'thomsen',\n",
       " 'averagey',\n",
       " 'saleswomen',\n",
       " 'gyspy',\n",
       " 'reinventing',\n",
       " 'wormwood',\n",
       " 'scrying',\n",
       " 'marvellously',\n",
       " 'mukesh',\n",
       " 'ninjitsu',\n",
       " 'scavenging',\n",
       " 'assignments',\n",
       " 'pair',\n",
       " 'saturation',\n",
       " 'sods',\n",
       " 'alludes',\n",
       " 'schmid',\n",
       " 'torturing',\n",
       " 'secondus',\n",
       " 'allthough',\n",
       " 'covertly',\n",
       " 'fans',\n",
       " 'redding',\n",
       " 'monday',\n",
       " 'used',\n",
       " 'protestations',\n",
       " 'thriving',\n",
       " 'naseeb',\n",
       " 'windbreaker',\n",
       " 'lanza',\n",
       " 'gratitous',\n",
       " 'wheaties',\n",
       " 'fagged',\n",
       " 'indignant',\n",
       " 'relativist',\n",
       " 'strenghths',\n",
       " 'shape',\n",
       " 'mapboards',\n",
       " 'crticos',\n",
       " 'ratzo',\n",
       " 'mog',\n",
       " 'wyngarde',\n",
       " 'sluts',\n",
       " 'analytics',\n",
       " 'booming',\n",
       " 'appetite',\n",
       " 'employment',\n",
       " 'joki',\n",
       " 'inflame',\n",
       " 'malleable',\n",
       " 'chao',\n",
       " 'ditties',\n",
       " 'ominously',\n",
       " 'shock',\n",
       " 'masseratti',\n",
       " 'cookery',\n",
       " 'mathau',\n",
       " 'ira',\n",
       " 'willy',\n",
       " 'engag',\n",
       " 'gaping',\n",
       " 'utilising',\n",
       " 'cryptically',\n",
       " 'griffin',\n",
       " 'glance',\n",
       " 'brutish',\n",
       " 'sexa',\n",
       " 'albacore',\n",
       " 'kazumi',\n",
       " 'wriggling',\n",
       " 'usa',\n",
       " 'levitate',\n",
       " 'gallops',\n",
       " 'medved',\n",
       " 'prayed',\n",
       " 'shake',\n",
       " 'laffs',\n",
       " 'dairy',\n",
       " 'considine',\n",
       " 'bloore',\n",
       " 'roadkill',\n",
       " 'scanner',\n",
       " 'kriemhilds',\n",
       " 'spinsterdom',\n",
       " 'alsoduring',\n",
       " 'pivot',\n",
       " 'moodysson',\n",
       " 'miaows',\n",
       " 'ramp',\n",
       " 'kitaparaporn',\n",
       " 'abominibal',\n",
       " 'rebel',\n",
       " 'downtrodden',\n",
       " 'gitan',\n",
       " 'joies',\n",
       " 'nativity',\n",
       " 'knocked',\n",
       " 'deterrent',\n",
       " 'stephane',\n",
       " 'peahi',\n",
       " 'silvester',\n",
       " 'stagestruck',\n",
       " 'perversion',\n",
       " 'ripoffs',\n",
       " 'steadily',\n",
       " 'rowed',\n",
       " 'shorthand',\n",
       " 'missionimpossible',\n",
       " 'deliciously',\n",
       " 'pugs',\n",
       " 'cadaverous',\n",
       " 'accede',\n",
       " 'characterisations',\n",
       " 'sossaman',\n",
       " ...}"
      ]
     },
     "execution_count": 24,
     "metadata": {},
     "output_type": "execute_result"
    }
   ],
   "source": [
    "vocab"
   ]
  },
  {
   "cell_type": "markdown",
   "metadata": {
    "id": "OeneoUAXKRe5"
   },
   "source": [
    "#### Segundo paso: construímos un vector del tamaño de nuestro vocabulario. Para ganar tiempo lo creamos como un vector entero de 0s usando la función de numpy zeros()"
   ]
  },
  {
   "cell_type": "code",
   "execution_count": 25,
   "metadata": {
    "id": "re4cRsBcJy9L"
   },
   "outputs": [],
   "source": [
    "import numpy as np\n",
    "zeros = np.zeros(vocab_size)"
   ]
  },
  {
   "cell_type": "code",
   "execution_count": 26,
   "metadata": {
    "id": "FwlXPMQUKMSp"
   },
   "outputs": [
    {
     "data": {
      "text/plain": [
       "array([0., 0., 0., ..., 0., 0., 0.])"
      ]
     },
     "execution_count": 26,
     "metadata": {},
     "output_type": "execute_result"
    }
   ],
   "source": [
    "zeros"
   ]
  },
  {
   "cell_type": "markdown",
   "metadata": {
    "id": "S-wjmc3TKl7n"
   },
   "source": [
    "#### Tercer paso: asignar a cada palabra un índice del vector y crear una tabla maestra que guarde esta relación y nos permita crear fácilmente nuestros vectores."
   ]
  },
  {
   "cell_type": "code",
   "execution_count": 27,
   "metadata": {
    "id": "WyTGXExmKOto"
   },
   "outputs": [
    {
     "data": {
      "text/plain": [
       "{'': 0,\n",
       " 'thunderball': 1,\n",
       " 'curling': 2,\n",
       " 'mower': 3,\n",
       " 'osullivan': 4,\n",
       " 'incinerates': 5,\n",
       " 'woodrow': 6,\n",
       " 'invest': 7,\n",
       " 'henreid': 8,\n",
       " 'phocion': 9,\n",
       " 'attains': 10,\n",
       " 'luby': 11,\n",
       " 'malcomx': 12,\n",
       " 'workgroup': 13,\n",
       " 'omigod': 14,\n",
       " 'ende': 15,\n",
       " 'preyall': 16,\n",
       " 'udit': 17,\n",
       " 'anji': 18,\n",
       " 'rm': 19,\n",
       " 'eehaaa': 20,\n",
       " 'toyland': 21,\n",
       " 'flesheating': 22,\n",
       " 'arcturus': 23,\n",
       " 'wyman': 24,\n",
       " 'microbiology': 25,\n",
       " 'mood': 26,\n",
       " 'sette': 27,\n",
       " 'galumphing': 28,\n",
       " 'civilisation': 29,\n",
       " 'fatherly': 30,\n",
       " 'kuriyami': 31,\n",
       " 'boastful': 32,\n",
       " 'yarding': 33,\n",
       " 'encourage': 34,\n",
       " 'messier': 35,\n",
       " 'contemptuous': 36,\n",
       " 'cleverest': 37,\n",
       " 'sock': 38,\n",
       " 'reminder': 39,\n",
       " 'vineyard': 40,\n",
       " 'furdion': 41,\n",
       " 'illiterate': 42,\n",
       " 'siskel': 43,\n",
       " 'caputured': 44,\n",
       " 'freshness': 45,\n",
       " 'whotta': 46,\n",
       " 'metaphysics': 47,\n",
       " 'trongard': 48,\n",
       " 'crackpot': 49,\n",
       " 'sugden': 50,\n",
       " 'sloppiest': 51,\n",
       " 'unscrewed': 52,\n",
       " 'boleslowski': 53,\n",
       " 'sofas': 54,\n",
       " 'idrissa': 55,\n",
       " 'del': 56,\n",
       " 'shiny': 57,\n",
       " 'successfully': 58,\n",
       " 'xplanation': 59,\n",
       " 'newpaper': 60,\n",
       " 'fumiya': 61,\n",
       " 'nieporte': 62,\n",
       " 'ziggy': 63,\n",
       " 'hansom': 64,\n",
       " 'misdirecting': 65,\n",
       " 'discoverer': 66,\n",
       " 'aide': 67,\n",
       " 'mehndi': 68,\n",
       " 'torrens': 69,\n",
       " 'westing': 70,\n",
       " 'amita': 71,\n",
       " 'signified': 72,\n",
       " 'simultaneous': 73,\n",
       " 'lengthen': 74,\n",
       " 'drowsily': 75,\n",
       " 'bombadier': 76,\n",
       " 'violated': 77,\n",
       " 'peary': 78,\n",
       " 'kantrowitz': 79,\n",
       " 'tolerating': 80,\n",
       " 'kerkhof': 81,\n",
       " 'capo': 82,\n",
       " 'pink': 83,\n",
       " 'vinyl': 84,\n",
       " 'trumps': 85,\n",
       " 'stoneman': 86,\n",
       " 'kamiki': 87,\n",
       " 'zod': 88,\n",
       " 'fever': 89,\n",
       " 'elsen': 90,\n",
       " 'powered': 91,\n",
       " 'meritorious': 92,\n",
       " 'chilkats': 93,\n",
       " 'avocation': 94,\n",
       " 'slackly': 95,\n",
       " 'targeted': 96,\n",
       " 'unbelievability': 97,\n",
       " 'corrina': 98,\n",
       " 'mccrea': 99,\n",
       " 'unyielding': 100,\n",
       " 'in': 101,\n",
       " 'cable': 102,\n",
       " 'shroeder': 103,\n",
       " 'visualizations': 104,\n",
       " 'grat': 105,\n",
       " 'overshooting': 106,\n",
       " 'sonorous': 107,\n",
       " 'wrestlers': 108,\n",
       " 'kathly': 109,\n",
       " 'zann': 110,\n",
       " 'appallonia': 111,\n",
       " 'choosened': 112,\n",
       " 'deficient': 113,\n",
       " 'mckellen': 114,\n",
       " 'pothole': 115,\n",
       " 'deth': 116,\n",
       " 'squeeing': 117,\n",
       " 'abusers': 118,\n",
       " 'robbins': 119,\n",
       " 'criminally': 120,\n",
       " 'quicker': 121,\n",
       " 'kaiba': 122,\n",
       " 'ambiance': 123,\n",
       " 'non': 124,\n",
       " 'sobbingly': 125,\n",
       " 'horizons': 126,\n",
       " 'introduced': 127,\n",
       " 'jabaar': 128,\n",
       " 'imperfection': 129,\n",
       " 'domesticate': 130,\n",
       " 'verhoven': 131,\n",
       " 'tranquillo': 132,\n",
       " 'agent': 133,\n",
       " 'spleen': 134,\n",
       " 'sundry': 135,\n",
       " 'ringleader': 136,\n",
       " 'pecked': 137,\n",
       " 'synchronized': 138,\n",
       " 'lousy': 139,\n",
       " 'hearkens': 140,\n",
       " 'astounding': 141,\n",
       " 'snips': 142,\n",
       " 'adell': 143,\n",
       " 'ignatova': 144,\n",
       " 'monument': 145,\n",
       " 'coastal': 146,\n",
       " 'theissen': 147,\n",
       " 'clamshell': 148,\n",
       " 'allocated': 149,\n",
       " 'wastepaper': 150,\n",
       " 'lipped': 151,\n",
       " 'vilify': 152,\n",
       " 'silvano': 153,\n",
       " 'bankrolled': 154,\n",
       " 'fusing': 155,\n",
       " 'uncronological': 156,\n",
       " 'falak': 157,\n",
       " 'glorfindel': 158,\n",
       " 'upchucking': 159,\n",
       " 'shirely': 160,\n",
       " 'organization': 161,\n",
       " 'sidelines': 162,\n",
       " 'absentminded': 163,\n",
       " 'whistles': 164,\n",
       " 'maladroit': 165,\n",
       " 'transporting': 166,\n",
       " 'dislikable': 167,\n",
       " 'nr': 168,\n",
       " 'vovochka': 169,\n",
       " 'jazzman': 170,\n",
       " 'stonehenge': 171,\n",
       " 'baltimorean': 172,\n",
       " 'waxwork': 173,\n",
       " 'spacial': 174,\n",
       " 'sweeney': 175,\n",
       " 'cartouche': 176,\n",
       " 'charged': 177,\n",
       " 'audiovisual': 178,\n",
       " 'vacationers': 179,\n",
       " 'frenegonde': 180,\n",
       " 'pucelle': 181,\n",
       " 'retail': 182,\n",
       " 'tripwires': 183,\n",
       " 'yannis': 184,\n",
       " 'seiing': 185,\n",
       " 'reinvention': 186,\n",
       " 'intuition': 187,\n",
       " 'exacerbated': 188,\n",
       " 'greist': 189,\n",
       " 'cattrall': 190,\n",
       " 'editing': 191,\n",
       " 'groan': 192,\n",
       " 'unto': 193,\n",
       " 'thames': 194,\n",
       " 'constructs': 195,\n",
       " 'liberating': 196,\n",
       " 'retracted': 197,\n",
       " 'bouyant': 198,\n",
       " 'brazlia': 199,\n",
       " 'esmond': 200,\n",
       " 'nurtures': 201,\n",
       " 'disputable': 202,\n",
       " 'psfrollo': 203,\n",
       " 'wyld': 204,\n",
       " 'haaaaaaaaaaaaaarr': 205,\n",
       " 'menon': 206,\n",
       " 'kinka': 207,\n",
       " 'moviefreak': 208,\n",
       " 'fernandes': 209,\n",
       " 'hindering': 210,\n",
       " 'pricing': 211,\n",
       " 'consummated': 212,\n",
       " 'succubus': 213,\n",
       " 'speeding': 214,\n",
       " 'linen': 215,\n",
       " 'lighting': 216,\n",
       " 'unnatural': 217,\n",
       " 'shielded': 218,\n",
       " 'gorgon': 219,\n",
       " 'lemmon': 220,\n",
       " 'tushar': 221,\n",
       " 'degrees': 222,\n",
       " 'liliom': 223,\n",
       " 'broccoli': 224,\n",
       " 'philomath': 225,\n",
       " 'accorded': 226,\n",
       " 'citta': 227,\n",
       " 'altron': 228,\n",
       " 'muder': 229,\n",
       " 'dominos': 230,\n",
       " 'freindship': 231,\n",
       " 'happiness': 232,\n",
       " 'tattoo': 233,\n",
       " 'evaluation': 234,\n",
       " 'rejoice': 235,\n",
       " 'vill': 236,\n",
       " 'shabnam': 237,\n",
       " 'intrepid': 238,\n",
       " 'amplified': 239,\n",
       " 'rubano': 240,\n",
       " 'nechayev': 241,\n",
       " 'sega': 242,\n",
       " 'appalling': 243,\n",
       " 'ramundo': 244,\n",
       " 'highly': 245,\n",
       " 'kuo': 246,\n",
       " 'splittingly': 247,\n",
       " 'premise': 248,\n",
       " 'ronnie': 249,\n",
       " 'bosses': 250,\n",
       " 'resonation': 251,\n",
       " 'versifying': 252,\n",
       " 'diminution': 253,\n",
       " 'rights': 254,\n",
       " 'arigatou': 255,\n",
       " 'guidelines': 256,\n",
       " 'alwin': 257,\n",
       " 'maronna': 258,\n",
       " 'lotr': 259,\n",
       " 'narrates': 260,\n",
       " 'letty': 261,\n",
       " 'exclaimed': 262,\n",
       " 'initially': 263,\n",
       " 'norwegian': 264,\n",
       " 'volleyball': 265,\n",
       " 'washrooms': 266,\n",
       " 'enunciation': 267,\n",
       " 'charisma': 268,\n",
       " 'weverka': 269,\n",
       " 'yadav': 270,\n",
       " 'kraft': 271,\n",
       " 'worldwide': 272,\n",
       " 'defended': 273,\n",
       " 'horrifying': 274,\n",
       " 'homicidal': 275,\n",
       " 'rooms': 276,\n",
       " 'fugitive': 277,\n",
       " 'germs': 278,\n",
       " 'tolstoy': 279,\n",
       " 'tellings': 280,\n",
       " 'pratically': 281,\n",
       " 'phipps': 282,\n",
       " 'uneasy': 283,\n",
       " 'pursuit': 284,\n",
       " 'shipyards': 285,\n",
       " 'intruders': 286,\n",
       " 'stivic': 287,\n",
       " 'jos': 288,\n",
       " 'youngers': 289,\n",
       " 'ullman': 290,\n",
       " 'curving': 291,\n",
       " 'kinematograph': 292,\n",
       " 'magaret': 293,\n",
       " 'variety': 294,\n",
       " 'cama': 295,\n",
       " 'elders': 296,\n",
       " 'berner': 297,\n",
       " 'cugat': 298,\n",
       " 'mollifies': 299,\n",
       " 'sheng': 300,\n",
       " 'decadents': 301,\n",
       " 'zaara': 302,\n",
       " 'sets': 303,\n",
       " 'gunslingers': 304,\n",
       " 'frivolities': 305,\n",
       " 'slipstream': 306,\n",
       " 'lycanthropic': 307,\n",
       " 'marylin': 308,\n",
       " 'momo': 309,\n",
       " 'childen': 310,\n",
       " 'privies': 311,\n",
       " 'adding': 312,\n",
       " 'savingtheday': 313,\n",
       " 'advisors': 314,\n",
       " 'pea': 315,\n",
       " 'furtilized': 316,\n",
       " 'cousy': 317,\n",
       " 'boggle': 318,\n",
       " 'alistar': 319,\n",
       " 'charred': 320,\n",
       " 'whic': 321,\n",
       " 'barca': 322,\n",
       " 'dreamer': 323,\n",
       " 'santosh': 324,\n",
       " 'cocoons': 325,\n",
       " 'hars': 326,\n",
       " 'youngest': 327,\n",
       " 'blouses': 328,\n",
       " 'syringe': 329,\n",
       " 'triad': 330,\n",
       " 'sunrise': 331,\n",
       " 'fortified': 332,\n",
       " 'palpable': 333,\n",
       " 'tammi': 334,\n",
       " 'tolls': 335,\n",
       " 'transgressive': 336,\n",
       " 'irina': 337,\n",
       " 'yankland': 338,\n",
       " 'luckily': 339,\n",
       " 'fiercely': 340,\n",
       " 'fizzle': 341,\n",
       " 'hysterion': 342,\n",
       " 'negligent': 343,\n",
       " 'moreno': 344,\n",
       " 'dishonours': 345,\n",
       " 'goldfinger': 346,\n",
       " 'distracted': 347,\n",
       " 'follows': 348,\n",
       " 'subordinates': 349,\n",
       " 'stowe': 350,\n",
       " 'slavic': 351,\n",
       " 'stauffenberg': 352,\n",
       " 'volcanoes': 353,\n",
       " 'hearfelt': 354,\n",
       " 'handpicked': 355,\n",
       " 'vitality': 356,\n",
       " 'kliegs': 357,\n",
       " 'wooed': 358,\n",
       " 'increments': 359,\n",
       " 'barbara': 360,\n",
       " 'nietzche': 361,\n",
       " 'anthropophagus': 362,\n",
       " 'laborer': 363,\n",
       " 'fuzziness': 364,\n",
       " 'thaws': 365,\n",
       " 'pragmatics': 366,\n",
       " 'carridine': 367,\n",
       " 'competitor': 368,\n",
       " 'fife': 369,\n",
       " 'unjaded': 370,\n",
       " 'worser': 371,\n",
       " 'comparably': 372,\n",
       " 'pool': 373,\n",
       " 'booger': 374,\n",
       " 'paleographic': 375,\n",
       " 'sheepskin': 376,\n",
       " 'blockades': 377,\n",
       " 'boooo': 378,\n",
       " 'stained': 379,\n",
       " 'dozes': 380,\n",
       " 'reportedly': 381,\n",
       " 'guffaws': 382,\n",
       " 'enslave': 383,\n",
       " 'storytellers': 384,\n",
       " 'heezy': 385,\n",
       " 'patching': 386,\n",
       " 'shoppe': 387,\n",
       " 'tortuously': 388,\n",
       " 'kroual': 389,\n",
       " 'corri': 390,\n",
       " 'coupling': 391,\n",
       " 'minigenre': 392,\n",
       " 'superthunderstingcar': 393,\n",
       " 'cineliterate': 394,\n",
       " 'adept': 395,\n",
       " 'burstingly': 396,\n",
       " 'insector': 397,\n",
       " 'majel': 398,\n",
       " 'percussionist': 399,\n",
       " 'rigging': 400,\n",
       " 'rockin': 401,\n",
       " 'emasculate': 402,\n",
       " 'dtr': 403,\n",
       " 'kosovo': 404,\n",
       " 'buttocks': 405,\n",
       " 'unconsumated': 406,\n",
       " 'surnow': 407,\n",
       " 'lipgloss': 408,\n",
       " 'locks': 409,\n",
       " 'backing': 410,\n",
       " 'presides': 411,\n",
       " 'wiedersehen': 412,\n",
       " 'lloyd': 413,\n",
       " 'ripping': 414,\n",
       " 'owners': 415,\n",
       " 'dirossario': 416,\n",
       " 'fertility': 417,\n",
       " 'fortuitously': 418,\n",
       " 'vamsi': 419,\n",
       " 'badlands': 420,\n",
       " 'ian': 421,\n",
       " 'aspires': 422,\n",
       " 'ulster': 423,\n",
       " 'bringing': 424,\n",
       " 'rocker': 425,\n",
       " 'cronies': 426,\n",
       " 'latinos': 427,\n",
       " 'crimefighter': 428,\n",
       " 'gloved': 429,\n",
       " 'georgi': 430,\n",
       " 'mops': 431,\n",
       " 'alvarado': 432,\n",
       " 'freshmen': 433,\n",
       " 'yard': 434,\n",
       " 'electro': 435,\n",
       " 'lazio': 436,\n",
       " 'freshener': 437,\n",
       " 'brillant': 438,\n",
       " 'souped': 439,\n",
       " 'andcompelling': 440,\n",
       " 'mindframe': 441,\n",
       " 'truisms': 442,\n",
       " 'qualm': 443,\n",
       " 'williams': 444,\n",
       " 'flamin': 445,\n",
       " 'blurred': 446,\n",
       " 'moviehowever': 447,\n",
       " 'absurdity': 448,\n",
       " 'secretions': 449,\n",
       " 'eventuality': 450,\n",
       " 'shinji': 451,\n",
       " 'positivity': 452,\n",
       " 'encore': 453,\n",
       " 'minces': 454,\n",
       " 'scriptdirectoractors': 455,\n",
       " 'speak': 456,\n",
       " 'oedpius': 457,\n",
       " 'offisde': 458,\n",
       " 'reworked': 459,\n",
       " 'tzc': 460,\n",
       " 'denizens': 461,\n",
       " 'salomaa': 462,\n",
       " 'freudians': 463,\n",
       " 'shayesteh': 464,\n",
       " 'elegiac': 465,\n",
       " 'descents': 466,\n",
       " 'bhabhi': 467,\n",
       " 'cellmate': 468,\n",
       " 'deever': 469,\n",
       " 'wednesdays': 470,\n",
       " 'oyama': 471,\n",
       " 'celario': 472,\n",
       " 'prejudices': 473,\n",
       " 'mrquez': 474,\n",
       " 'legolas': 475,\n",
       " 'doubting': 476,\n",
       " 'miffed': 477,\n",
       " 'pronounciationsp': 478,\n",
       " 'mumbled': 479,\n",
       " 'mallika': 480,\n",
       " 'hosing': 481,\n",
       " 'regehr': 482,\n",
       " 'reicher': 483,\n",
       " 'wheaton': 484,\n",
       " 'utilized': 485,\n",
       " 'hitchcock': 486,\n",
       " 'stevie': 487,\n",
       " 'goyokin': 488,\n",
       " 'interruped': 489,\n",
       " 'cleanest': 490,\n",
       " 'wafers': 491,\n",
       " 'fuzzy': 492,\n",
       " 'entwistle': 493,\n",
       " 'whalers': 494,\n",
       " 'objectivistic': 495,\n",
       " 'egyptianas': 496,\n",
       " 'langley': 497,\n",
       " 'terminating': 498,\n",
       " 'hireing': 499,\n",
       " 'satirise': 500,\n",
       " 'amigo': 501,\n",
       " 'coolish': 502,\n",
       " 'plodded': 503,\n",
       " 'vassar': 504,\n",
       " 'womans': 505,\n",
       " 'balikbayan': 506,\n",
       " 'enhancements': 507,\n",
       " 'job': 508,\n",
       " 'histories': 509,\n",
       " 'mavis': 510,\n",
       " 'biryani': 511,\n",
       " 'canoe': 512,\n",
       " 'kalser': 513,\n",
       " 'protaganiste': 514,\n",
       " 'vampyros': 515,\n",
       " 'ottoman': 516,\n",
       " 'cinematopghaphy': 517,\n",
       " 'hairdo': 518,\n",
       " 'burger': 519,\n",
       " 'kinlan': 520,\n",
       " 'chuncho': 521,\n",
       " 'atrocities': 522,\n",
       " 'ld': 523,\n",
       " 'dec': 524,\n",
       " 'amneris': 525,\n",
       " 'coonskin': 526,\n",
       " 'totem': 527,\n",
       " 'philo': 528,\n",
       " 'fobidden': 529,\n",
       " 'sabu': 530,\n",
       " 'sift': 531,\n",
       " 'totaly': 532,\n",
       " 'cordobes': 533,\n",
       " 'beset': 534,\n",
       " 'ignominiously': 535,\n",
       " 'bonaparte': 536,\n",
       " 'shadowing': 537,\n",
       " 'languidly': 538,\n",
       " 'derisive': 539,\n",
       " 'fascistic': 540,\n",
       " 'overexciting': 541,\n",
       " 'habituation': 542,\n",
       " 'rapidity': 543,\n",
       " 'monitor': 544,\n",
       " 'improve': 545,\n",
       " 'masquerades': 546,\n",
       " 'tiku': 547,\n",
       " 'stonking': 548,\n",
       " 'telemovie': 549,\n",
       " 'albinoni': 550,\n",
       " 'marilyn': 551,\n",
       " 'madmen': 552,\n",
       " 'annie': 553,\n",
       " 'moko': 554,\n",
       " 'fanatic': 555,\n",
       " 'superstars': 556,\n",
       " 'tlc': 557,\n",
       " 'kfc': 558,\n",
       " 'amoretti': 559,\n",
       " 'reclaimed': 560,\n",
       " 'grays': 561,\n",
       " 'autopsied': 562,\n",
       " 'latinamerican': 563,\n",
       " 'crasher': 564,\n",
       " 'byniarski': 565,\n",
       " 'homunculi': 566,\n",
       " 'graft': 567,\n",
       " 'cruse': 568,\n",
       " 'innaccurate': 569,\n",
       " 'cristopher': 570,\n",
       " 'confound': 571,\n",
       " 'unbilled': 572,\n",
       " 'dublin': 573,\n",
       " 'reccommend': 574,\n",
       " 'cranberry': 575,\n",
       " 'copiers': 576,\n",
       " 'stows': 577,\n",
       " 'lured': 578,\n",
       " 'bankrupt': 579,\n",
       " 'comrades': 580,\n",
       " 'sierra': 581,\n",
       " 'sardonic': 582,\n",
       " 'procedure': 583,\n",
       " 'nicmart': 584,\n",
       " 'hybrids': 585,\n",
       " 'aznable': 586,\n",
       " 'ferdos': 587,\n",
       " 'bracing': 588,\n",
       " 'threatens': 589,\n",
       " 'archenemy': 590,\n",
       " 'brannigan': 591,\n",
       " 'scouting': 592,\n",
       " 'mo': 593,\n",
       " 'stylistically': 594,\n",
       " 'imaginative': 595,\n",
       " 'starkly': 596,\n",
       " 'ridgement': 597,\n",
       " 'cautions': 598,\n",
       " 'unhellish': 599,\n",
       " 'yukfest': 600,\n",
       " 'concise': 601,\n",
       " 'om': 602,\n",
       " 'chinnarasu': 603,\n",
       " 'viability': 604,\n",
       " 'coastline': 605,\n",
       " 'nicktoons': 606,\n",
       " 'welshman': 607,\n",
       " 'verna': 608,\n",
       " 'picks': 609,\n",
       " 'crossover': 610,\n",
       " 'tequila': 611,\n",
       " 'showdowns': 612,\n",
       " 'exeption': 613,\n",
       " 'gollam': 614,\n",
       " 'raunchier': 615,\n",
       " 'smolder': 616,\n",
       " 'bendre': 617,\n",
       " 'collecting': 618,\n",
       " 'marketers': 619,\n",
       " 'layabout': 620,\n",
       " 'pinpoint': 621,\n",
       " 'curser': 622,\n",
       " 'barbies': 623,\n",
       " 'seriousuly': 624,\n",
       " 'landsbury': 625,\n",
       " 'eburne': 626,\n",
       " 'passages': 627,\n",
       " 'commonsense': 628,\n",
       " 'thrillers': 629,\n",
       " 'shoppers': 630,\n",
       " 'brasiliano': 631,\n",
       " 'plump': 632,\n",
       " 'gopal': 633,\n",
       " 'lek': 634,\n",
       " 'muppets': 635,\n",
       " 'americans': 636,\n",
       " 'slapdash': 637,\n",
       " 'umney': 638,\n",
       " 'impressionable': 639,\n",
       " 'mccartle': 640,\n",
       " 'weakness': 641,\n",
       " 'decomposition': 642,\n",
       " 'ff': 643,\n",
       " 'unravelled': 644,\n",
       " 'retracing': 645,\n",
       " 'nemisis': 646,\n",
       " 'hollwyood': 647,\n",
       " 'nandani': 648,\n",
       " 'nationally': 649,\n",
       " 'leeves': 650,\n",
       " 'exert': 651,\n",
       " 'unearthing': 652,\n",
       " 'cale': 653,\n",
       " 'afirming': 654,\n",
       " 'furmann': 655,\n",
       " 'contrary': 656,\n",
       " 'dn': 657,\n",
       " 'propelled': 658,\n",
       " 'wranglers': 659,\n",
       " 'ishai': 660,\n",
       " 'begun': 661,\n",
       " 'szalinsky': 662,\n",
       " 'mayfair': 663,\n",
       " 'eisley': 664,\n",
       " 'ven': 665,\n",
       " 'secombe': 666,\n",
       " 'origin': 667,\n",
       " 'dob': 668,\n",
       " 'hamburg': 669,\n",
       " 'vases': 670,\n",
       " 'franfreako': 671,\n",
       " 'thanx': 672,\n",
       " 'killearn': 673,\n",
       " 'drier': 674,\n",
       " 'stabler': 675,\n",
       " 'lizzie': 676,\n",
       " 'joyriding': 677,\n",
       " 'galvatron': 678,\n",
       " 'hagel': 679,\n",
       " 'bono': 680,\n",
       " 'dishonest': 681,\n",
       " 'largley': 682,\n",
       " 'manette': 683,\n",
       " 'food': 684,\n",
       " 'campyness': 685,\n",
       " 'scrawl': 686,\n",
       " 'keanu': 687,\n",
       " 'defeating': 688,\n",
       " 'sttng': 689,\n",
       " 'anywayz': 690,\n",
       " 'hitters': 691,\n",
       " 'koboi': 692,\n",
       " 'tcheky': 693,\n",
       " 'committee': 694,\n",
       " 'cave': 695,\n",
       " 'extense': 696,\n",
       " 'encroachments': 697,\n",
       " 'tantrapur': 698,\n",
       " 'manuscript': 699,\n",
       " 'pacierkowski': 700,\n",
       " 'strength': 701,\n",
       " 'yasminda': 702,\n",
       " 'goeres': 703,\n",
       " 'complimented': 704,\n",
       " 'feore': 705,\n",
       " 'thickies': 706,\n",
       " 'johhny': 707,\n",
       " 'newsstand': 708,\n",
       " 'reservist': 709,\n",
       " 'parc': 710,\n",
       " 'brisson': 711,\n",
       " 'inuiyasha': 712,\n",
       " 'consumer': 713,\n",
       " 'indications': 714,\n",
       " 'ohhh': 715,\n",
       " 'brionowski': 716,\n",
       " 'willi': 717,\n",
       " 'ciff': 718,\n",
       " 'marv': 719,\n",
       " 'symposium': 720,\n",
       " 'gradations': 721,\n",
       " 'johan': 722,\n",
       " 'durians': 723,\n",
       " 'indignity': 724,\n",
       " 'verne': 725,\n",
       " 'rei': 726,\n",
       " 'wooley': 727,\n",
       " 'frenzy': 728,\n",
       " 'baer': 729,\n",
       " 'ecclesiastical': 730,\n",
       " 'perabo': 731,\n",
       " 'extinguishers': 732,\n",
       " 'longendecker': 733,\n",
       " 'imprints': 734,\n",
       " 'thevillagevideot': 735,\n",
       " 'candlesticks': 736,\n",
       " 'emmerdale': 737,\n",
       " 'orthopedic': 738,\n",
       " 'coordinates': 739,\n",
       " 'ruffin': 740,\n",
       " 'clumsy': 741,\n",
       " 'spurted': 742,\n",
       " 'harding': 743,\n",
       " 'fashions': 744,\n",
       " 'jana': 745,\n",
       " 'morimoto': 746,\n",
       " 'reemerge': 747,\n",
       " 'allie': 748,\n",
       " 'predominately': 749,\n",
       " 'vilarasau': 750,\n",
       " 'properly': 751,\n",
       " 'highjinx': 752,\n",
       " 'doorknobs': 753,\n",
       " 'biron': 754,\n",
       " 'tane': 755,\n",
       " 'meadows': 756,\n",
       " 'whitey': 757,\n",
       " 'wendi': 758,\n",
       " 'bunnie': 759,\n",
       " 'chemically': 760,\n",
       " 'invents': 761,\n",
       " 'beehives': 762,\n",
       " 'ronde': 763,\n",
       " 'roi': 764,\n",
       " 'penultimate': 765,\n",
       " 'mellisa': 766,\n",
       " 'wrongful': 767,\n",
       " 'cheeseburgers': 768,\n",
       " 'reddin': 769,\n",
       " 'loudest': 770,\n",
       " 'defensiveness': 771,\n",
       " 'ross': 772,\n",
       " 'nettie': 773,\n",
       " 'latifah': 774,\n",
       " 'wournow': 775,\n",
       " 'hegemony': 776,\n",
       " 'mildest': 777,\n",
       " 'schlongs': 778,\n",
       " 'reasoning': 779,\n",
       " 'dowry': 780,\n",
       " 'springsteen': 781,\n",
       " 'riki': 782,\n",
       " 'toshikazu': 783,\n",
       " 'storey': 784,\n",
       " 'patting': 785,\n",
       " 'veranda': 786,\n",
       " 'moranis': 787,\n",
       " 'ageless': 788,\n",
       " 'disowning': 789,\n",
       " 'glienna': 790,\n",
       " 'ejecting': 791,\n",
       " 'poopchev': 792,\n",
       " 'destino': 793,\n",
       " 'omar': 794,\n",
       " 'theatrics': 795,\n",
       " 'cokes': 796,\n",
       " 'deathit': 797,\n",
       " 'kleenex': 798,\n",
       " 'manitoba': 799,\n",
       " 'sniffed': 800,\n",
       " 'morneau': 801,\n",
       " 'vitas': 802,\n",
       " 'emission': 803,\n",
       " 'mesias': 804,\n",
       " 'ithought': 805,\n",
       " 'antiquities': 806,\n",
       " 'indonesians': 807,\n",
       " 'incarnate': 808,\n",
       " 'madonna': 809,\n",
       " 'smartie': 810,\n",
       " 'neighing': 811,\n",
       " 'agey': 812,\n",
       " 'mistranslation': 813,\n",
       " 'parlors': 814,\n",
       " 'expending': 815,\n",
       " 'iridescent': 816,\n",
       " 'decors': 817,\n",
       " 'abyssmal': 818,\n",
       " 'rotheroe': 819,\n",
       " 'cristiana': 820,\n",
       " 'spanked': 821,\n",
       " 'passing': 822,\n",
       " 'conundrum': 823,\n",
       " 'subway': 824,\n",
       " 'tvone': 825,\n",
       " 'whisperer': 826,\n",
       " 'endings': 827,\n",
       " 'thriller': 828,\n",
       " 'teeenage': 829,\n",
       " 'mohanlal': 830,\n",
       " 'enraptured': 831,\n",
       " 'savaged': 832,\n",
       " 'skeletons': 833,\n",
       " 'baskets': 834,\n",
       " 'jamboree': 835,\n",
       " 'wildmon': 836,\n",
       " 'laudanum': 837,\n",
       " 'monde': 838,\n",
       " 'musican': 839,\n",
       " 'heathcliffe': 840,\n",
       " 'antagonistic': 841,\n",
       " 'gapes': 842,\n",
       " 'dues': 843,\n",
       " 'stiltedly': 844,\n",
       " 'brereton': 845,\n",
       " 'iona': 846,\n",
       " 'peacemakers': 847,\n",
       " 'norrland': 848,\n",
       " 'batmans': 849,\n",
       " 'bankcrupcy': 850,\n",
       " 'recruitment': 851,\n",
       " 'dads': 852,\n",
       " 'paradorian': 853,\n",
       " 'mama': 854,\n",
       " 'torrent': 855,\n",
       " 'wartime': 856,\n",
       " 'worms': 857,\n",
       " 'frequented': 858,\n",
       " 'fnnish': 859,\n",
       " 'maximilian': 860,\n",
       " 'deviations': 861,\n",
       " 'menially': 862,\n",
       " 'streetfighter': 863,\n",
       " 'looping': 864,\n",
       " 'joss': 865,\n",
       " 'dystopic': 866,\n",
       " 'quarrel': 867,\n",
       " 'golberg': 868,\n",
       " 'daytime': 869,\n",
       " 'kirsted': 870,\n",
       " 'contracter': 871,\n",
       " 'unhittable': 872,\n",
       " 'humorist': 873,\n",
       " 'jessup': 874,\n",
       " 'consistence': 875,\n",
       " 'occurrences': 876,\n",
       " 'pym': 877,\n",
       " 'contrast': 878,\n",
       " 'hinson': 879,\n",
       " 'cineplex': 880,\n",
       " 'continent': 881,\n",
       " 'dissapears': 882,\n",
       " 'milverton': 883,\n",
       " 'togs': 884,\n",
       " 'elinor': 885,\n",
       " 'thomsen': 886,\n",
       " 'averagey': 887,\n",
       " 'saleswomen': 888,\n",
       " 'gyspy': 889,\n",
       " 'reinventing': 890,\n",
       " 'wormwood': 891,\n",
       " 'scrying': 892,\n",
       " 'marvellously': 893,\n",
       " 'mukesh': 894,\n",
       " 'ninjitsu': 895,\n",
       " 'scavenging': 896,\n",
       " 'assignments': 897,\n",
       " 'pair': 898,\n",
       " 'saturation': 899,\n",
       " 'sods': 900,\n",
       " 'alludes': 901,\n",
       " 'schmid': 902,\n",
       " 'torturing': 903,\n",
       " 'secondus': 904,\n",
       " 'allthough': 905,\n",
       " 'covertly': 906,\n",
       " 'fans': 907,\n",
       " 'redding': 908,\n",
       " 'monday': 909,\n",
       " 'used': 910,\n",
       " 'protestations': 911,\n",
       " 'thriving': 912,\n",
       " 'naseeb': 913,\n",
       " 'windbreaker': 914,\n",
       " 'lanza': 915,\n",
       " 'gratitous': 916,\n",
       " 'wheaties': 917,\n",
       " 'fagged': 918,\n",
       " 'indignant': 919,\n",
       " 'relativist': 920,\n",
       " 'strenghths': 921,\n",
       " 'shape': 922,\n",
       " 'mapboards': 923,\n",
       " 'crticos': 924,\n",
       " 'ratzo': 925,\n",
       " 'mog': 926,\n",
       " 'wyngarde': 927,\n",
       " 'sluts': 928,\n",
       " 'analytics': 929,\n",
       " 'booming': 930,\n",
       " 'appetite': 931,\n",
       " 'employment': 932,\n",
       " 'joki': 933,\n",
       " 'inflame': 934,\n",
       " 'malleable': 935,\n",
       " 'chao': 936,\n",
       " 'ditties': 937,\n",
       " 'ominously': 938,\n",
       " 'shock': 939,\n",
       " 'masseratti': 940,\n",
       " 'cookery': 941,\n",
       " 'mathau': 942,\n",
       " 'ira': 943,\n",
       " 'willy': 944,\n",
       " 'engag': 945,\n",
       " 'gaping': 946,\n",
       " 'utilising': 947,\n",
       " 'cryptically': 948,\n",
       " 'griffin': 949,\n",
       " 'glance': 950,\n",
       " 'brutish': 951,\n",
       " 'sexa': 952,\n",
       " 'albacore': 953,\n",
       " 'kazumi': 954,\n",
       " 'wriggling': 955,\n",
       " 'usa': 956,\n",
       " 'levitate': 957,\n",
       " 'gallops': 958,\n",
       " 'medved': 959,\n",
       " 'prayed': 960,\n",
       " 'shake': 961,\n",
       " 'laffs': 962,\n",
       " 'dairy': 963,\n",
       " 'considine': 964,\n",
       " 'bloore': 965,\n",
       " 'roadkill': 966,\n",
       " 'scanner': 967,\n",
       " 'kriemhilds': 968,\n",
       " 'spinsterdom': 969,\n",
       " 'alsoduring': 970,\n",
       " 'pivot': 971,\n",
       " 'moodysson': 972,\n",
       " 'miaows': 973,\n",
       " 'ramp': 974,\n",
       " 'kitaparaporn': 975,\n",
       " 'abominibal': 976,\n",
       " 'rebel': 977,\n",
       " 'downtrodden': 978,\n",
       " 'gitan': 979,\n",
       " 'joies': 980,\n",
       " 'nativity': 981,\n",
       " 'knocked': 982,\n",
       " 'deterrent': 983,\n",
       " 'stephane': 984,\n",
       " 'peahi': 985,\n",
       " 'silvester': 986,\n",
       " 'stagestruck': 987,\n",
       " 'perversion': 988,\n",
       " 'ripoffs': 989,\n",
       " 'steadily': 990,\n",
       " 'rowed': 991,\n",
       " 'shorthand': 992,\n",
       " 'missionimpossible': 993,\n",
       " 'deliciously': 994,\n",
       " 'pugs': 995,\n",
       " 'cadaverous': 996,\n",
       " 'accede': 997,\n",
       " 'characterisations': 998,\n",
       " 'sossaman': 999,\n",
       " ...}"
      ]
     },
     "execution_count": 27,
     "metadata": {},
     "output_type": "execute_result"
    }
   ],
   "source": [
    "# Creamos un diccionario que tiene como key la palabra y como valor el índice asociado\n",
    "word2index = {}\n",
    "for i,word in enumerate(vocab):\n",
    "    word2index[word.lower()] = i\n",
    "    \n",
    "word2index"
   ]
  },
  {
   "cell_type": "markdown",
   "metadata": {
    "id": "00djBLcWLe3-"
   },
   "source": [
    "#### Cuarto paso: crear la función que dada una crítica devuelve un vector contando la frecuencia de las palabras utilizadas."
   ]
  },
  {
   "cell_type": "code",
   "execution_count": 28,
   "metadata": {
    "id": "9Iov2PNeLEw5"
   },
   "outputs": [],
   "source": [
    "def bag_of_words(review):\n",
    "    v = np.zeros(vocab_size)\n",
    "\n",
    "    for word in review.split(\" \"):\n",
    "        word = word.lower()\n",
    "        if word in word2index:\n",
    "            v[word2index[word]] += 1\n",
    "        else:\n",
    "            import warnings\n",
    "            msg = f\"\"\"La palabra {word} no se encuentra en el diccionario construido durante el \n",
    "            entrenamiento. La vectorización de la frase se construye sin tener en cuenta la \n",
    "            existencia de esta palabra\"\"\"            \n",
    "            warnings.warn(msg)\n",
    "    return v"
   ]
  },
  {
   "cell_type": "code",
   "execution_count": 29,
   "metadata": {
    "id": "4uR3jCvuSBrf"
   },
   "outputs": [
    {
     "data": {
      "text/plain": [
       "'bromwell high is a cartoon comedy . it ran at the same time as some other programs about school life  such as  teachers  . my   years in the teaching profession lead me to believe that bromwell high  s satire is much closer to reality than is  teachers  . the scramble to survive financially  the insightful students who can see right through their pathetic teachers  pomp  the pettiness of the whole situation  all remind me of the schools i knew and their students . when i saw the episode in which a student repeatedly tried to burn down the school  i immediately recalled . . . . . . . . . at . . . . . . . . . . high . a classic line inspector i  m here to sack one of your teachers . student welcome to bromwell high . i expect that many adults of my age think that bromwell high is far fetched . what a pity that it isn  t   '"
      ]
     },
     "execution_count": 29,
     "metadata": {},
     "output_type": "execute_result"
    }
   ],
   "source": [
    "reviews[0]"
   ]
  },
  {
   "cell_type": "code",
   "execution_count": 30,
   "metadata": {
    "id": "t2iUM_MeSGkP"
   },
   "outputs": [
    {
     "data": {
      "text/plain": [
       "0"
      ]
     },
     "execution_count": 30,
     "metadata": {},
     "output_type": "execute_result"
    }
   ],
   "source": [
    "word2index['']"
   ]
  },
  {
   "cell_type": "code",
   "execution_count": 31,
   "metadata": {
    "id": "n7BOLYxRMJFL"
   },
   "outputs": [
    {
     "data": {
      "text/plain": [
       "array([18.,  0.,  0., ...,  0.,  0.,  0.])"
      ]
     },
     "execution_count": 31,
     "metadata": {},
     "output_type": "execute_result"
    }
   ],
   "source": [
    "bag_of_words(reviews[0])"
   ]
  },
  {
   "cell_type": "code",
   "execution_count": 32,
   "metadata": {},
   "outputs": [
    {
     "data": {
      "text/plain": [
       "array([5., 0., 0., ..., 0., 0., 0.])"
      ]
     },
     "execution_count": 32,
     "metadata": {},
     "output_type": "execute_result"
    }
   ],
   "source": [
    "bag_of_words(reviews[1])"
   ]
  },
  {
   "cell_type": "markdown",
   "metadata": {
    "id": "-zy1Su0ENDzb"
   },
   "source": [
    "#### Quinto paso: el target de nuestro modelo serán 1s y 0s. Vamos a crear una función que convierta los cadenas POSITIVE y NEGATIVE a 1 y 0. "
   ]
  },
  {
   "cell_type": "code",
   "execution_count": 33,
   "metadata": {
    "id": "LUQ52KX3MLfC"
   },
   "outputs": [],
   "source": [
    "## Rellena la función para que dada la etiqueta en forma de cadena devuelve el entero asociado\n",
    "def target_numerico(label):\n",
    "    return 1  if label == 'POSITIVE'else 0"
   ]
  },
  {
   "cell_type": "code",
   "execution_count": 34,
   "metadata": {
    "id": "NXFHGGG8Ngf2"
   },
   "outputs": [
    {
     "data": {
      "text/plain": [
       "1"
      ]
     },
     "execution_count": 34,
     "metadata": {},
     "output_type": "execute_result"
    }
   ],
   "source": [
    "target_numerico(labels[0])"
   ]
  },
  {
   "cell_type": "markdown",
   "metadata": {
    "id": "3socGi2cP_v4"
   },
   "source": [
    "#### Sexto paso: dividimos los datos que tenemos en train y test (esta vez lo hacemos a ojo)."
   ]
  },
  {
   "cell_type": "code",
   "execution_count": 35,
   "metadata": {
    "id": "Hiy_hHiNQKHV"
   },
   "outputs": [
    {
     "name": "stdout",
     "output_type": "stream",
     "text": [
      "5000\n",
      "10000\n"
     ]
    }
   ],
   "source": [
    "training_size = 5000\n",
    "test_size = 10000\n",
    "training_rev = reviews[:training_size]\n",
    "training_lab = labels[:training_size]\n",
    "test_rev = reviews[-test_size:]\n",
    "test_lab = labels[-test_size:]\n",
    "print(len(training_lab))\n",
    "print(len(test_lab))"
   ]
  },
  {
   "cell_type": "code",
   "execution_count": 36,
   "metadata": {
    "id": "bd6kzIovTxEZ"
   },
   "outputs": [
    {
     "name": "stdout",
     "output_type": "stream",
     "text": [
      "who in their right mind does anything so stupid as this movie   br    br   accidental killing of a security guard . . . characters that are so two dimensional that a two year old could have painted drawn them . . . and better . . .  br    br   a red toolbox of death  please . . . .  br    br   hypothermic weak thugs . . .  br    br   acting from hell . . .  br    br   stylistically this movie shifts between teen comedy  thriller  voyeurism and . . . female . . .  uhm  rambo   br    br   unbelievable and it  s an insult to any thinking person . do not watch  walk away it  s more horrible than you may imagine . . .  br    br   and on top of it all it  s trying to be hip by being overly graphic in it  s violence . . .  br    br   mrs montford shoot  em up was fun and funny  this is just pathetic and terrible . good luck next time .     \n",
      "who in their right mind does anything so stupid as this movie   br    br   accidental killing of a security guard . . . characters that are so two dimensional that a two year old could have painted drawn them . . . and better . . .  br    br   a red toolbox of death  please . . . .  br    br   hypothermic weak thugs . . .  br    br   acting from hell . . .  br    br   stylistically this movie shifts between teen comedy  thriller  voyeurism and . . . female . . .  uhm  rambo   br    br   unbelievable and it  s an insult to any thinking person . do not watch  walk away it  s more horrible than you may imagine . . .  br    br   and on top of it all it  s trying to be hip by being overly graphic in it  s violence . . .  br    br   mrs montford shoot  em up was fun and funny  this is just pathetic and terrible . good luck next time .     \n"
     ]
    }
   ],
   "source": [
    "print(training_rev[training_size-1])\n",
    "print(reviews[training_size-1])"
   ]
  },
  {
   "cell_type": "code",
   "execution_count": 37,
   "metadata": {
    "id": "E61D-jvbT_kc"
   },
   "outputs": [
    {
     "name": "stdout",
     "output_type": "stream",
     "text": [
      "this documentary  now available free on video . google . com  is a fantastic demonstration of the power of ordinary people to overcome injustice . everyone must see this .  br    br   chavez was elected in a landslide vote in     . his platform was to divert the fantastic oil wealth from the    middle class to the    poor . he banned foreign drift net fishing in venezuelan waters . he sent       cuban doctors to the slums to treat the sick for free . he wiped out illiteracy and set up new free universities .  br    br   but it was his    tax on oil company profits that got him in trouble with the bush administration . in      while irish film makers kim bartley and donnacha o  briain were interviewing chavez inside the presidential palace about his social programs  a cia backed coup was launched . with the cameras rolling  chavez was captured and flown out of the country . it was announced on national tv that he had  resigned  .  br    br   but the poor of venezuela didn  t believe the media . they went to the palace in their millions and demanded that chavez be returned . in the face of such overwhelming numbers  the military turned on the coup leaders and the plotters fled to the us . chavez was rescued by military helicopter and returned to jubilation .  \n",
      "this documentary  now available free on video . google . com  is a fantastic demonstration of the power of ordinary people to overcome injustice . everyone must see this .  br    br   chavez was elected in a landslide vote in     . his platform was to divert the fantastic oil wealth from the    middle class to the    poor . he banned foreign drift net fishing in venezuelan waters . he sent       cuban doctors to the slums to treat the sick for free . he wiped out illiteracy and set up new free universities .  br    br   but it was his    tax on oil company profits that got him in trouble with the bush administration . in      while irish film makers kim bartley and donnacha o  briain were interviewing chavez inside the presidential palace about his social programs  a cia backed coup was launched . with the cameras rolling  chavez was captured and flown out of the country . it was announced on national tv that he had  resigned  .  br    br   but the poor of venezuela didn  t believe the media . they went to the palace in their millions and demanded that chavez be returned . in the face of such overwhelming numbers  the military turned on the coup leaders and the plotters fled to the us . chavez was rescued by military helicopter and returned to jubilation .  \n"
     ]
    }
   ],
   "source": [
    "print(test_rev[0])\n",
    "print(reviews[-test_size])"
   ]
  },
  {
   "cell_type": "markdown",
   "metadata": {
    "id": "8wjjnhbmQ2bR"
   },
   "source": [
    "#### Séptimo paso: calculamos las matrices de entrenamiento y de test."
   ]
  },
  {
   "cell_type": "code",
   "execution_count": 38,
   "metadata": {
    "id": "5CnlYbNnNkdA"
   },
   "outputs": [
    {
     "name": "stdout",
     "output_type": "stream",
     "text": [
      "(5000, 74074)\n"
     ]
    },
    {
     "data": {
      "text/plain": [
       "array([[18.,  0.,  0., ...,  0.,  0.,  0.],\n",
       "       [ 5.,  0.,  0., ...,  0.,  0.,  0.],\n",
       "       [78.,  0.,  0., ...,  0.,  0.,  0.],\n",
       "       ...,\n",
       "       [26.,  0.,  0., ...,  0.,  0.,  0.],\n",
       "       [10.,  0.,  0., ...,  0.,  0.,  0.],\n",
       "       [67.,  0.,  0., ...,  0.,  0.,  0.]])"
      ]
     },
     "execution_count": 38,
     "metadata": {},
     "output_type": "execute_result"
    }
   ],
   "source": [
    "X = np.empty((len(training_rev), vocab_size))\n",
    "print(X.shape)\n",
    "for i in range(len(training_rev)):\n",
    "    X[i] = bag_of_words(training_rev[i])\n",
    "X"
   ]
  },
  {
   "cell_type": "code",
   "execution_count": 39,
   "metadata": {
    "id": "mDfnC2WRVkAA"
   },
   "outputs": [
    {
     "name": "stdout",
     "output_type": "stream",
     "text": [
      "(10000, 74074)\n"
     ]
    },
    {
     "data": {
      "text/plain": [
       "array([[53.,  0.,  0., ...,  0.,  0.,  0.],\n",
       "       [72.,  0.,  0., ...,  0.,  0.,  0.],\n",
       "       [28.,  0.,  0., ...,  0.,  0.,  0.],\n",
       "       ...,\n",
       "       [52.,  0.,  0., ...,  0.,  0.,  0.],\n",
       "       [37.,  0.,  0., ...,  0.,  0.,  0.],\n",
       "       [24.,  0.,  0., ...,  0.,  0.,  0.]])"
      ]
     },
     "execution_count": 39,
     "metadata": {},
     "output_type": "execute_result"
    }
   ],
   "source": [
    "X_test = np.empty((len(test_rev), vocab_size))\n",
    "print(X_test.shape)\n",
    "for i in range(len(test_rev)):\n",
    "    X_test[i] = bag_of_words(test_rev[i])\n",
    "X_test"
   ]
  },
  {
   "cell_type": "code",
   "execution_count": 40,
   "metadata": {
    "id": "8dRHQFKVPLaB"
   },
   "outputs": [
    {
     "name": "stdout",
     "output_type": "stream",
     "text": [
      "(5000,)\n"
     ]
    },
    {
     "data": {
      "text/plain": [
       "array([1., 0., 1., ..., 0., 1., 0.])"
      ]
     },
     "execution_count": 40,
     "metadata": {},
     "output_type": "execute_result"
    }
   ],
   "source": [
    "y = np.empty((len(training_lab),))\n",
    "print(y.shape)\n",
    "for i in range(len(training_lab)):\n",
    "    y[i] = target_numerico(training_lab[i])\n",
    "y"
   ]
  },
  {
   "cell_type": "code",
   "execution_count": 41,
   "metadata": {
    "id": "wQ8H8PfQVuiC"
   },
   "outputs": [
    {
     "name": "stdout",
     "output_type": "stream",
     "text": [
      "(10000,)\n"
     ]
    },
    {
     "data": {
      "text/plain": [
       "array([1., 0., 1., ..., 0., 1., 0.])"
      ]
     },
     "execution_count": 41,
     "metadata": {},
     "output_type": "execute_result"
    }
   ],
   "source": [
    "y_test = np.empty((len(test_lab),))\n",
    "print(y_test.shape)\n",
    "for i in range(len(test_lab)):\n",
    "    y_test[i] = target_numerico(test_lab[i])\n",
    "y_test"
   ]
  },
  {
   "cell_type": "markdown",
   "metadata": {
    "id": "0BUgNbNaVZQI"
   },
   "source": [
    "#### Octavo paso: entrenamos el modelo"
   ]
  },
  {
   "cell_type": "code",
   "execution_count": 42,
   "metadata": {
    "id": "418HbjvnS3R6"
   },
   "outputs": [],
   "source": [
    "from sklearn import linear_model\n",
    "from sklearn import model_selection\n",
    "from sklearn.metrics import classification_report\n",
    "from sklearn.metrics import confusion_matrix\n",
    "from sklearn.metrics import accuracy_score"
   ]
  },
  {
   "cell_type": "code",
   "execution_count": 43,
   "metadata": {
    "id": "FFw3UoZDTNrz"
   },
   "outputs": [
    {
     "data": {
      "text/plain": [
       "LogisticRegression(solver='liblinear')"
      ]
     },
     "execution_count": 43,
     "metadata": {},
     "output_type": "execute_result"
    }
   ],
   "source": [
    "model = linear_model.LogisticRegression(solver='liblinear')\n",
    "model.fit(X,y)"
   ]
  },
  {
   "cell_type": "markdown",
   "metadata": {
    "id": "tHbMoVIvVd37"
   },
   "source": [
    "#### Noveno paso: aplicamos el predict sobre el conjunto de test y vemos qué tal funciona."
   ]
  },
  {
   "cell_type": "code",
   "execution_count": 44,
   "metadata": {
    "id": "4ew7DEftTOnr"
   },
   "outputs": [],
   "source": [
    "predictions = model.predict(X_test)"
   ]
  },
  {
   "cell_type": "code",
   "execution_count": 45,
   "metadata": {
    "id": "jz8FOER4VSYf"
   },
   "outputs": [
    {
     "data": {
      "text/plain": [
       "0.9998"
      ]
     },
     "execution_count": 45,
     "metadata": {},
     "output_type": "execute_result"
    }
   ],
   "source": [
    "model.score(X,y)"
   ]
  },
  {
   "cell_type": "code",
   "execution_count": 46,
   "metadata": {
    "id": "5EMDdavGWEs-"
   },
   "outputs": [
    {
     "data": {
      "text/plain": [
       "0.8397"
      ]
     },
     "execution_count": 46,
     "metadata": {},
     "output_type": "execute_result"
    }
   ],
   "source": [
    "model.score(X_test,y_test)"
   ]
  },
  {
   "cell_type": "code",
   "execution_count": 47,
   "metadata": {
    "id": "ZTVPXI4TWHvS"
   },
   "outputs": [
    {
     "name": "stdout",
     "output_type": "stream",
     "text": [
      "[[4289  711]\n",
      " [ 892 4108]]\n"
     ]
    }
   ],
   "source": [
    "print(confusion_matrix(y_test, predictions))"
   ]
  },
  {
   "cell_type": "code",
   "execution_count": 48,
   "metadata": {
    "id": "qGy6v14K-Ovy"
   },
   "outputs": [
    {
     "name": "stdout",
     "output_type": "stream",
     "text": [
      "              precision    recall  f1-score   support\n",
      "\n",
      "         0.0       0.83      0.86      0.84      5000\n",
      "         1.0       0.85      0.82      0.84      5000\n",
      "\n",
      "    accuracy                           0.84     10000\n",
      "   macro avg       0.84      0.84      0.84     10000\n",
      "weighted avg       0.84      0.84      0.84     10000\n",
      "\n"
     ]
    }
   ],
   "source": [
    "print(classification_report(y_test, predictions))"
   ]
  },
  {
   "cell_type": "markdown",
   "metadata": {
    "id": "T1_6xKsU-cOe"
   },
   "source": [
    "#### Decimo paso: preparamos el código para probar el modelo con cadenas nuevas."
   ]
  },
  {
   "cell_type": "code",
   "execution_count": 49,
   "metadata": {
    "id": "Melhwgn7-YVv"
   },
   "outputs": [],
   "source": [
    "# Rellena la función para, dada una crítica, aplicar el modelo que hemos entrenado\n",
    "# e imprimir POSITIVE/NEGATIVE\n",
    "def sentiment_analysis(review):\n",
    "    vector_input = np.empty((1, vocab_size))\n",
    "    vector_input[0] = bag_of_words(review)\n",
    "    pred = model.predict(vector_input)\n",
    "    if pred == 1:\n",
    "        print('POSITIVE')\n",
    "    else:\n",
    "        print('NEGATIVE')"
   ]
  },
  {
   "cell_type": "code",
   "execution_count": 50,
   "metadata": {
    "id": "83AM8es9_oNl"
   },
   "outputs": [
    {
     "name": "stdout",
     "output_type": "stream",
     "text": [
      "NEGATIVE\n"
     ]
    }
   ],
   "source": [
    "sentiment_analysis('movie bad')"
   ]
  },
  {
   "cell_type": "code",
   "execution_count": 51,
   "metadata": {
    "id": "cVkYqDqC_rLm"
   },
   "outputs": [
    {
     "name": "stdout",
     "output_type": "stream",
     "text": [
      "NEGATIVE\n"
     ]
    }
   ],
   "source": [
    "sentiment_analysis('horrible')"
   ]
  },
  {
   "cell_type": "code",
   "execution_count": 52,
   "metadata": {
    "id": "Rj8IWCGxAHNZ"
   },
   "outputs": [
    {
     "name": "stdout",
     "output_type": "stream",
     "text": [
      "POSITIVE\n"
     ]
    },
    {
     "name": "stderr",
     "output_type": "stream",
     "text": [
      "<ipython-input-28-743c85802beb>:13: UserWarning: La palabra españa no se encuentra en el diccionario construido durante el \n",
      "            entrenamiento. La vectorización de la frase se construye sin tener en cuenta la \n",
      "            existencia de esta palabra\n",
      "  warnings.warn(msg)\n"
     ]
    }
   ],
   "source": [
    "sentiment_analysis('España')"
   ]
  },
  {
   "cell_type": "markdown",
   "metadata": {
    "id": "2oUKhEDkASes"
   },
   "source": [
    "¿Qué hacemos con el error que se obtiene al meter una palabra que no está en el vocabulario? Solucionar este error es parte de la práctica de la asignatura."
   ]
  },
  {
   "cell_type": "markdown",
   "metadata": {},
   "source": [
    "Una palabra que no se encuentra en el vocabulario construido durante la fase de entrenamiento no se puede incluir en el vector de una frase que la contiene, porque esto implicaría recalcular todo el diccionario de datos y estaría creciendo todo el tiempo, puesto que siempre se encontrarán palabras nuevas, en dependencia del texto sobre el que se haya construido dicho vocabulario. En este caso, cuando se encuentra una palabra nueva se decide formar el vector de la frase que la contiene ignorando la existencia de esta palabra. Se considera que no es conveniente lanzar un error o detener el proceso porque una palabra en una frase puede que no cambie todo el sentido y sea posible, aún sin representarla obtener una predicción correcta. Sin embargo, esta decisión no es ni incorrecta ni correcta sino que depende de quien lo implementa. Sin embargo, al tomar esta decisión se considera necesario informar al cliente de lo que está ocurriendo mediante el *warning*."
   ]
  },
  {
   "cell_type": "code",
   "execution_count": 53,
   "metadata": {
    "id": "LxIV-DyqAKUF"
   },
   "outputs": [
    {
     "name": "stdout",
     "output_type": "stream",
     "text": [
      "POSITIVE\n"
     ]
    }
   ],
   "source": [
    "sentiment_analysis('Cool')"
   ]
  },
  {
   "cell_type": "markdown",
   "metadata": {
    "id": "YDNO9LHVAp6E"
   },
   "source": [
    "Pero si Cool si es una palabra inglesa. ¿Qué ocurre? ¿Cómo lo solucionamos? Esto también es parte de la práctica de la asignatura. "
   ]
  },
  {
   "cell_type": "markdown",
   "metadata": {},
   "source": [
    "En este caso, primeramente se llevan todas las palabras a minúsculas en la celda 27, de manera tal que una misma palabra aunque esté escrita de forma diferente sea interpretada como la misma y se modifica la función *bag_of_words* en la celda 28 para que tenga en cuenta el cambio anterior. Asimismo, se adiciona una condición que comprueba si la palabra existe en el vocabulario y en caso de no estar, en lugar de un error se muestra un mensaje (*warning*) advirtiendo que esa palabra no existe en el vocabulario y por tanto, no se tiene en cuenta para vectorizar una frase."
   ]
  }
 ],
 "metadata": {
  "colab": {
   "collapsed_sections": [],
   "machine_shape": "hm",
   "name": "6 Clasificacion Textos.ipynb",
   "provenance": []
  },
  "kernelspec": {
   "display_name": "Python 3",
   "language": "python",
   "name": "python3"
  },
  "language_info": {
   "codemirror_mode": {
    "name": "ipython",
    "version": 3
   },
   "file_extension": ".py",
   "mimetype": "text/x-python",
   "name": "python",
   "nbconvert_exporter": "python",
   "pygments_lexer": "ipython3",
   "version": "3.8.5"
  }
 },
 "nbformat": 4,
 "nbformat_minor": 1
}
